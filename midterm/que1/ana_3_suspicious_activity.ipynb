{
 "cells": [
  {
   "cell_type": "markdown",
   "metadata": {
    "collapsed": true
   },
   "source": [
    "# Enron Data Anaysis : Analysis over Suspicious activity over email exchange over date "
   ]
  },
  {
   "cell_type": "code",
   "execution_count": null,
   "metadata": {
    "collapsed": true
   },
   "outputs": [],
   "source": [
    "import nltk\n",
    "import tarfile\n",
    "import email\n",
    "from os.path import splitext\n",
    "import glob\n",
    "import re\n",
    "from os.path import basename\n",
    "from email.parser import Parser\n",
    "from collections import Counter\n",
    "import matplotlib.pyplot as plt\n"
   ]
  },
  {
   "cell_type": "code",
   "execution_count": 3,
   "metadata": {
    "collapsed": true
   },
   "outputs": [],
   "source": [
    "files=glob.glob('~/midterm/data/enron/maildir/*')"
   ]
  },
  {
   "cell_type": "code",
   "execution_count": 4,
   "metadata": {
    "collapsed": false
   },
   "outputs": [],
   "source": [
    "sentDate=[]\n",
    "ReceiveDate = []\n",
    "for name in files:\n",
    "    eName=basename(name)\n",
    "    filesCategory=glob.glob(name+'/*')\n",
    "    if eName=='stokley-c': #Only this is the email that has different inbox type\n",
    "        for chris in filesCategory:\n",
    "            chrisFolder=glob.glob(chris+'/*')\n",
    "            for emailCategory in chrisFolder:\n",
    "                emailCategoryGeneral=emailCategory.split(chris+'\\\\')[1]\n",
    "                if emailCategoryGeneral=='sent':\n",
    "                    filesSent=glob.glob(emailCategory+'/*')\n",
    "                    mailsSent=len(filesSent)\n",
    "                    for eachEmail in filesSent:\n",
    "                         with open(eachEmail) as data_file:\n",
    "                            string_file=data_file.read()\n",
    "                            email = Parser().parsestr(string_file)\n",
    "                            sentDate.append(email['date'])\n",
    "                if emailCategoryGeneral=='inbox':\n",
    "                    filesReceived=glob.glob(emailCategory+'/*')\n",
    "                    mailsReceived=len(filesReceived)\n",
    "                    for eachEmail in filesReceived:\n",
    "                         with open(eachEmail) as data_file:\n",
    "                            string_file=data_file.read()\n",
    "                            email = Parser().parsestr(string_file)\n",
    "                            ReceiveDate.append(email['date'])\n",
    "    else:    \n",
    "        for emailCategory in filesCategory:\n",
    "            emailCategoryGeneral=emailCategory.split(name+'\\\\')[1]\n",
    "            if emailCategoryGeneral=='sent':\n",
    "                filesSent=glob.glob(emailCategory+'/*')\n",
    "                mailsSent=len(filesSent)\n",
    "                for eachEmail in filesSent:\n",
    "                    with open(eachEmail) as data_file:\n",
    "                        string_file=data_file.read()\n",
    "                        email = Parser().parsestr(string_file)\n",
    "                        sentDate.append(email['date'])\n",
    "            if emailCategoryGeneral=='sent_items':\n",
    "                filesSentItems=glob.glob(emailCategory+'/*')\n",
    "                for sentItem in filesSentItems:\n",
    "                    try:\n",
    "                        with open(sentItem) as data_file:\n",
    "                            string_file=data_file.read()\n",
    "                            email = Parser().parsestr(string_file)\n",
    "                            sentDate.append(email['date'])\n",
    "                    except:\n",
    "                        pass\n",
    "            if emailCategoryGeneral=='_sent_mail':\n",
    "                filesSentMails=glob.glob(emailCategory+'/*')\n",
    "                for sentMail in filesSentMails:\n",
    "                    try:\n",
    "                        with open(sentMail) as data_file:\n",
    "                            string_file=data_file.read()\n",
    "                            email = Parser().parsestr(string_file)\n",
    "                            sentDate.append(email['date'])\n",
    "                    except:\n",
    "                        pass       \n",
    "            if emailCategoryGeneral=='inbox':\n",
    "                    filesReceived=glob.glob(emailCategory+'/*')\n",
    "                    mailsReceived=len(filesReceived)\n",
    "                    for eachEmail in filesReceived:\n",
    "                        try:\n",
    "                            with open(eachEmail) as data_file:\n",
    "                                string_file=data_file.read()\n",
    "                                email = Parser().parsestr(string_file)\n",
    "                                ReceiveDate.append(email['date'])\n",
    "                        except:\n",
    "                            pass"
   ]
  },
  {
   "cell_type": "code",
   "execution_count": 5,
   "metadata": {
    "collapsed": false
   },
   "outputs": [],
   "source": [
    "sentDate=[x.split() for x in sentDate]\n",
    "sentDay=[]\n",
    "sentMonth=[]\n",
    "sentYear=[]\n",
    "for x in sentDate:\n",
    "    sentYear.append(x[3])\n",
    "for x in sentDate:\n",
    "    sentMonth.append(x[2])\n",
    "for x in sentDate:\n",
    "    sentDay.append(x[0]) \n",
    "    \n",
    "EmailCountByYear=Counter(sentYear).most_common(5)\n",
    "EmailCountByMonth=Counter(sentMonth).most_common(12)\n",
    "EmailCountByDays=Counter(sentDay).most_common(7)"
   ]
  },
  {
   "cell_type": "code",
   "execution_count": 6,
   "metadata": {
    "collapsed": false
   },
   "outputs": [
    {
     "data": {
      "text/plain": [
       "[('2001', 65192),\n",
       " ('2000', 50971),\n",
       " ('2002', 6325),\n",
       " ('1999', 3633),\n",
       " ('1998', 76)]"
      ]
     },
     "execution_count": 6,
     "metadata": {},
     "output_type": "execute_result"
    }
   ],
   "source": [
    "EmailCountByYear"
   ]
  },
  {
   "cell_type": "code",
   "execution_count": 7,
   "metadata": {
    "collapsed": false
   },
   "outputs": [
    {
     "data": {
      "text/plain": [
       "[('Oct', 15153),\n",
       " ('Nov', 13698),\n",
       " ('Jan', 12311),\n",
       " ('Apr', 11227),\n",
       " ('Mar', 10474),\n",
       " ('May', 10341),\n",
       " ('Feb', 10296),\n",
       " ('Dec', 10234),\n",
       " ('Sep', 9388),\n",
       " ('Aug', 8786),\n",
       " ('Jun', 7326),\n",
       " ('Jul', 6963)]"
      ]
     },
     "execution_count": 7,
     "metadata": {},
     "output_type": "execute_result"
    }
   ],
   "source": [
    "EmailCountByMonth"
   ]
  },
  {
   "cell_type": "code",
   "execution_count": 8,
   "metadata": {
    "collapsed": false
   },
   "outputs": [
    {
     "data": {
      "text/plain": [
       "[('Tue,', 27094),\n",
       " ('Mon,', 25903),\n",
       " ('Wed,', 25840),\n",
       " ('Thu,', 23538),\n",
       " ('Fri,', 20290),\n",
       " ('Sun,', 2545),\n",
       " ('Sat,', 987)]"
      ]
     },
     "execution_count": 8,
     "metadata": {},
     "output_type": "execute_result"
    }
   ],
   "source": [
    "EmailCountByDays"
   ]
  },
  {
   "cell_type": "code",
   "execution_count": 9,
   "metadata": {
    "collapsed": false
   },
   "outputs": [],
   "source": [
    "ReceiveDate=[x.split() for x in ReceiveDate]\n",
    "ReceiveDay=[]\n",
    "ReceiveMonth=[]\n",
    "ReceiveYear=[]\n",
    "for x in ReceiveDate:\n",
    "    ReceiveYear.append(x[3])\n",
    "for x in ReceiveDate:\n",
    "    ReceiveMonth.append(x[2])\n",
    "for x in ReceiveDate:\n",
    "    ReceiveDay.append(x[0]) \n",
    "    \n",
    "ReceivedEmailCountByYear=Counter(ReceiveYear).most_common(5)\n",
    "ReceivedEmailCountByMonth=Counter(ReceiveMonth).most_common(12)\n",
    "ReceivedEmailCountByDays=Counter(ReceiveDay).most_common(7)"
   ]
  },
  {
   "cell_type": "code",
   "execution_count": 10,
   "metadata": {
    "collapsed": false
   },
   "outputs": [
    {
     "data": {
      "text/plain": [
       "[('2001', 34967), ('2002', 6389), ('0001', 107), ('2004', 26), ('0002', 15)]"
      ]
     },
     "execution_count": 10,
     "metadata": {},
     "output_type": "execute_result"
    }
   ],
   "source": [
    "ReceivedEmailCountByYear"
   ]
  },
  {
   "cell_type": "code",
   "execution_count": 11,
   "metadata": {
    "collapsed": false
   },
   "outputs": [
    {
     "data": {
      "text/plain": [
       "[('Oct', 10688),\n",
       " ('Nov', 9284),\n",
       " ('Dec', 4581),\n",
       " ('Jan', 3626),\n",
       " ('Sep', 3562),\n",
       " ('May', 2204),\n",
       " ('Feb', 1948),\n",
       " ('Jun', 1820),\n",
       " ('Aug', 1545),\n",
       " ('Apr', 908),\n",
       " ('Jul', 808),\n",
       " ('Mar', 535)]"
      ]
     },
     "execution_count": 11,
     "metadata": {},
     "output_type": "execute_result"
    }
   ],
   "source": [
    "ReceivedEmailCountByMonth\n"
   ]
  },
  {
   "cell_type": "code",
   "execution_count": 32,
   "metadata": {
    "collapsed": false
   },
   "outputs": [],
   "source": [
    "import pylab\n",
    "from random import randint"
   ]
  },
  {
   "cell_type": "code",
   "execution_count": 12,
   "metadata": {
    "collapsed": false
   },
   "outputs": [
    {
     "data": {
      "text/plain": [
       "[('Mon,', 8789),\n",
       " ('Tue,', 8299),\n",
       " ('Wed,', 8261),\n",
       " ('Thu,', 7312),\n",
       " ('Fri,', 6867),\n",
       " ('Sun,', 1279),\n",
       " ('Sat,', 702)]"
      ]
     },
     "execution_count": 12,
     "metadata": {},
     "output_type": "execute_result"
    }
   ],
   "source": [
    "ReceivedEmailCountByDays"
   ]
  },
  {
   "cell_type": "code",
   "execution_count": 38,
   "metadata": {
    "collapsed": false
   },
   "outputs": [
    {
     "data": {
      "text/plain": [
       "(0, 12)"
      ]
     },
     "execution_count": 38,
     "metadata": {},
     "output_type": "execute_result"
    }
   ],
   "source": [
    "Count = [seq[1] for seq in EmailCountByYear]\n",
    "NameMonth = [seq[0] for seq in EmailCountByYear]\n",
    "\n",
    "centers = range(len(EmailCountByYear))\n",
    "plt.bar(centers,Count, align='center',tick_label=NameMonth)\n",
    "plt.xlim([0, 12])"
   ]
  },
  {
   "cell_type": "code",
   "execution_count": 39,
   "metadata": {
    "collapsed": true
   },
   "outputs": [],
   "source": [
    "import csv\n",
    "with open('Suspicious_Activity_Month.csv','w') as fp: #Command to make csv\n",
    "    a = csv.writer(fp, delimiter = ',',lineterminator='\\n')\n",
    "    a.writerow((\"Month\",\"Count\"))\n",
    "    a.writerows(ReceivedEmailCountByMonth,) #writerows and writerow would give a single row"
   ]
  },
  {
   "cell_type": "code",
   "execution_count": 41,
   "metadata": {
    "collapsed": true
   },
   "outputs": [],
   "source": [
    "import csv\n",
    "with open('Suspicious_Activity_Year.csv','w') as fp: #Command to make csv\n",
    "    a = csv.writer(fp, delimiter = ',',lineterminator='\\n')\n",
    "    a.writerow((\"Year\",\"Count\"))\n",
    "    a.writerows(EmailCountByYear,) #writerows and writerow would give a single row"
   ]
  },
  {
   "cell_type": "markdown",
   "metadata": {
    "collapsed": true
   },
   "source": [
    "# Conclusion : As we can see that the Number of email sent and received were highest in October 2000 till August 2001, we can suspect a suspicious activity in these years after which the spike goes down. This clearly suggests that there was lot of email exchanges and suggesting a rapid change in flow of information. On refering to the csv files, we can conclude that the scandal should be between October 2000 to mid 2001 which was actually the date of scandal\n"
   ]
  }
 ],
 "metadata": {
  "anaconda-cloud": {},
  "kernelspec": {
   "display_name": "Python [conda root]",
   "language": "python",
   "name": "conda-root-py"
  },
  "language_info": {
   "codemirror_mode": {
    "name": "ipython",
    "version": 3
   },
   "file_extension": ".py",
   "mimetype": "text/x-python",
   "name": "python",
   "nbconvert_exporter": "python",
   "pygments_lexer": "ipython3",
   "version": "3.5.2"
  }
 },
 "nbformat": 4,
 "nbformat_minor": 1
}
