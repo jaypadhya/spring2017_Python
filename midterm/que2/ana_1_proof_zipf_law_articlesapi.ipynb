{
 "cells": [
  {
   "cell_type": "markdown",
   "metadata": {},
   "source": [
    "# API Call to Articles API for Proving Zipf Law "
   ]
  },
  {
   "cell_type": "code",
   "execution_count": 3,
   "metadata": {
    "collapsed": false
   },
   "outputs": [],
   "source": [
    "import requests\n",
    "import logging\n",
    "from bs4 import BeautifulSoup\n",
    "import json\n",
    "import glob\n",
    "import os\n",
    "import re\n",
    "import datetime\n",
    "import string\n",
    "from nltk.corpus import stopwords\n",
    "from collections import Counter\n",
    "logger = logging.getLogger(__name__)"
   ]
  },
  {
   "cell_type": "code",
   "execution_count": 37,
   "metadata": {
    "collapsed": false
   },
   "outputs": [],
   "source": [
    "r = requests.get(\"http://api.nytimes.com/svc/search/v2/articlesearch.json?&api-key=ad7cc4f2ca2d4c518eb2d88b3e768657\")\n",
    "type(r) #Requests.modal.response is a request object obtained"
   ]
  },
  {
   "cell_type": "code",
   "execution_count": 13,
   "metadata": {
    "collapsed": true
   },
   "outputs": [],
   "source": [
    "data = r.json() #To extract in form of JSON data"
   ]
  },
  {
   "cell_type": "code",
   "execution_count": 14,
   "metadata": {
    "collapsed": false
   },
   "outputs": [],
   "source": [
    "with open('article_value_response.txt', 'w') as outfile:\n",
    "    json.dump(data, outfile)\n",
    "data"
   ]
  },
  {
   "cell_type": "code",
   "execution_count": 64,
   "metadata": {
    "collapsed": false
   },
   "outputs": [],
   "source": [
    "def checkpath(path): # This is defining the check path for ensuring tat path is not previously created\n",
    "    if not os.path.exists(path): # Check for path\n",
    "        os.makedirs(path) # Make one if not \n",
    "    return True # Return if not tru"
   ]
  },
  {
   "cell_type": "code",
   "execution_count": 42,
   "metadata": {
    "collapsed": false
   },
   "outputs": [],
   "source": [
    "files=glob.glob('apicall/article/*')\n",
    "newsWords=[]\n",
    "for file in files:\n",
    "    with open(file) as data_file:    \n",
    "        data = json.load(data_file)\n",
    "        x=data['response']['docs']\n",
    "        for each in x:\n",
    "            snippet=str(each['snippet'])\n",
    "            words=re.findall(r'(\\b[A-Za-z][a-z]{2,9}\\b)', snippet)        \n",
    "            newsWords.append(words)\n",
    "newsWords=sum(newsWords,[])"
   ]
  },
  {
   "cell_type": "code",
   "execution_count": 43,
   "metadata": {
    "collapsed": true
   },
   "outputs": [],
   "source": [
    "newsWords=[''.join(c for c in s if c not in string.punctuation) for s in newsWords]\n",
    "newsWords = [s for s in newsWords if s]"
   ]
  },
  {
   "cell_type": "code",
   "execution_count": 41,
   "metadata": {
    "collapsed": false
   },
   "outputs": [
    {
     "name": "stdout",
     "output_type": "stream",
     "text": [
      "['a', 'about', 'above', 'after', 'again', 'against', 'ain', 'all', 'am', 'an', 'and', 'any', 'are', 'aren', 'as', 'at', 'be', 'because', 'been', 'before', 'being', 'below', 'between', 'both', 'but', 'by', 'can', 'couldn', 'd', 'did', 'didn', 'do', 'does', 'doesn', 'doing', 'don', 'down', 'during', 'each', 'few', 'for', 'from', 'further', 'had', 'hadn', 'has', 'hasn', 'have', 'haven', 'having', 'he', 'her', 'here', 'hers', 'herself', 'him', 'himself', 'his', 'how', 'i', 'if', 'in', 'into', 'is', 'isn', 'it', 'its', 'itself', 'just', 'll', 'm', 'ma', 'me', 'mightn', 'more', 'most', 'mustn', 'my', 'myself', 'needn', 'no', 'nor', 'not', 'now', 'o', 'of', 'off', 'on', 'once', 'only', 'or', 'other', 'our', 'ours', 'ourselves', 'out', 'over', 'own', 're', 's', 'same', 'shan', 'she', 'should', 'shouldn', 'so', 'some', 'such', 't', 'than', 'that', 'the', 'their', 'theirs', 'them', 'themselves', 'then', 'there', 'these', 'they', 'this', 'those', 'through', 'to', 'too', 'under', 'until', 'up', 've', 'very', 'was', 'wasn', 'we', 'were', 'weren', 'what', 'when', 'where', 'which', 'while', 'who', 'whom', 'why', 'will', 'with', 'won', 'wouldn', 'y', 'you', 'your', 'yours', 'yourself', 'yourselves']\n"
     ]
    }
   ],
   "source": [
    "stop = stopwords.words('english')\n",
    "print(sorted(stop))\n",
    "newsWords = [word for word in newsWords if word not in stop]"
   ]
  },
  {
   "cell_type": "code",
   "execution_count": 22,
   "metadata": {
    "collapsed": false
   },
   "outputs": [
    {
     "data": {
      "text/plain": [
       "143633"
      ]
     },
     "execution_count": 22,
     "metadata": {},
     "output_type": "execute_result"
    }
   ],
   "source": [
    "len(newsWords)"
   ]
  },
  {
   "cell_type": "code",
   "execution_count": 31,
   "metadata": {
    "collapsed": true
   },
   "outputs": [],
   "source": [
    "newsWords_LowerCaseWords = [word for word in newsWords if word not in stop]\n",
    "newsWords_LowerCaseWords=[x.lower() for x in newsWords]\n",
    "newsWords_LowerCaseWords =  [word for word in newsWords if word not in \"The\"]\n",
    "WordFrequency=Counter(newsWords_LowerCaseWords).most_common(100)\n",
    "dict_ = dict(WordFrequency)"
   ]
  },
  {
   "cell_type": "code",
   "execution_count": 33,
   "metadata": {
    "collapsed": false
   },
   "outputs": [
    {
     "name": "stdout",
     "output_type": "stream",
     "text": [
      "[('New', 1081), ('York', 798), ('January', 727), ('years', 603), ('family', 508), ('said', 464), ('new', 425), ('wife', 410), ('She', 389), ('many', 382), ('year', 371), ('two', 354), ('one', 343), ('University', 333), ('first', 332), ('City', 322), ('died', 321), ('life', 314), ('made', 306), ('President', 297), ('husband', 287), ('home', 280), ('children', 274), ('American', 270), ('would', 266), ('survived', 250), ('School', 248), ('time', 245), ('great', 238), ('people', 235), ('also', 231), ('world', 227), ('may', 225), ('held', 223), ('three', 223), ('John', 222), ('United', 222), ('law', 219), ('last', 209), ('Trump', 208), ('late', 206), ('Center', 202), ('College', 201), ('service', 199), ('friends', 198), ('served', 194), ('work', 194), ('week', 189), ('day', 187), ('David', 186), ('member', 186), ('former', 184), ('mother', 178), ('father', 177), ('beloved', 174), ('including', 174), ('loved', 174), ('away', 171), ('sister', 170), ('state', 170), ('Funeral', 166), ('daughter', 165), ('loving', 165), ('career', 164), ('friend', 164), ('State', 162), ('Board', 160), ('Donald', 160), ('This', 160), ('president', 160), ('show', 160), ('company', 159), ('Thursday', 158), ('brother', 157), ('Clinton', 155), ('States', 154), ('could', 154), ('December', 152), ('Times', 151), ('son', 151), ('love', 149), ('passed', 148), ('well', 148), ('Foundation', 147), ('passing', 147), ('Michael', 146), ('Brooklyn', 145), ('Monday', 145), ('Iowa', 144), ('like', 143), ('devoted', 142), ('old', 142), ('need', 141), ('His', 140), ('Cruz', 139), ('missed', 139), ('After', 138), ('campaign', 138), ('age', 137), ('death', 136)]\n"
     ]
    }
   ],
   "source": [
    "dictionarySorted = sorted(dict_.items(),key = lambda kv:((-kv[1], kv[0]))) #To use a lambda function and sort correctly as keys\n",
    "print(dictionarySorted) # To print the word count"
   ]
  },
  {
   "cell_type": "code",
   "execution_count": 34,
   "metadata": {
    "collapsed": false
   },
   "outputs": [
    {
     "name": "stdout",
     "output_type": "stream",
     "text": [
      "[('WORD', 'COUNT', 'RANK'), ('New', 1081, 1), ('York', 798, 2), ('January', 727, 3), ('years', 603, 4), ('family', 508, 5), ('said', 464, 6), ('new', 425, 7), ('wife', 410, 8), ('She', 389, 9), ('many', 382, 10), ('year', 371, 11), ('two', 354, 12), ('one', 343, 13), ('University', 333, 14), ('first', 332, 15), ('City', 322, 16), ('died', 321, 17), ('life', 314, 18), ('made', 306, 19), ('President', 297, 20), ('husband', 287, 21), ('home', 280, 22), ('children', 274, 23), ('American', 270, 24), ('would', 266, 25), ('survived', 250, 26), ('School', 248, 27), ('time', 245, 28), ('great', 238, 29), ('people', 235, 30), ('also', 231, 31), ('world', 227, 32), ('may', 225, 33), ('held', 223, 34), ('three', 223, 35), ('John', 222, 36), ('United', 222, 37), ('law', 219, 38), ('last', 209, 39), ('Trump', 208, 40), ('late', 206, 41), ('Center', 202, 42), ('College', 201, 43), ('service', 199, 44), ('friends', 198, 45), ('served', 194, 46), ('work', 194, 47), ('week', 189, 48), ('day', 187, 49), ('David', 186, 50), ('member', 186, 51), ('former', 184, 52), ('mother', 178, 53), ('father', 177, 54), ('beloved', 174, 55), ('including', 174, 56), ('loved', 174, 57), ('away', 171, 58), ('sister', 170, 59), ('state', 170, 60), ('Funeral', 166, 61), ('daughter', 165, 62), ('loving', 165, 63), ('career', 164, 64), ('friend', 164, 65), ('State', 162, 66), ('Board', 160, 67), ('Donald', 160, 68), ('This', 160, 69), ('president', 160, 70), ('show', 160, 71), ('company', 159, 72), ('Thursday', 158, 73), ('brother', 157, 74), ('Clinton', 155, 75), ('States', 154, 76), ('could', 154, 77), ('December', 152, 78), ('Times', 151, 79), ('son', 151, 80), ('love', 149, 81), ('passed', 148, 82), ('well', 148, 83), ('Foundation', 147, 84), ('passing', 147, 85), ('Michael', 146, 86), ('Brooklyn', 145, 87), ('Monday', 145, 88), ('Iowa', 144, 89), ('like', 143, 90), ('devoted', 142, 91), ('old', 142, 92), ('need', 141, 93), ('His', 140, 94), ('Cruz', 139, 95), ('missed', 139, 96), ('After', 138, 97), ('campaign', 138, 98), ('age', 137, 99), ('death', 136, 100)]\n"
     ]
    }
   ],
   "source": [
    "counter = 1 #setting counter\n",
    "ls_ten = [('WORD','COUNT','RANK')] # Making the format to word, count and rank successively\n",
    "\n",
    "for x in dictionarySorted: # counter for the words\n",
    "    ls_ten.append(x+(counter,)) #To add in the same Touple\n",
    "    counter+=1\n",
    "\n",
    "print(ls_ten) #To ensure we have rankwise sorting of the array"
   ]
  },
  {
   "cell_type": "code",
   "execution_count": 35,
   "metadata": {
    "collapsed": true
   },
   "outputs": [],
   "source": [
    "rank=\" \"\n",
    "count = \" \"\n",
    "count = [x[1] for x in ls_ten] # To make count start from tuple (1)\n",
    "rank = [x[2] for x in ls_ten] # To make rank start from tuple (2)"
   ]
  },
  {
   "cell_type": "code",
   "execution_count": 36,
   "metadata": {
    "collapsed": true
   },
   "outputs": [],
   "source": [
    "import matplotlib.pyplot as plt # Optional part for complete 100% points ..  :)\n",
    "rank_list = rank[1:]   # The first one is a header so eliminate\n",
    "count_list = count[1:] # The first one is a header so eliminate"
   ]
  },
  {
   "cell_type": "code",
   "execution_count": 37,
   "metadata": {
    "collapsed": false
   },
   "outputs": [
    {
     "data": {
      "image/png": "[encoded data removed]",
      "text/plain": [
       "<matplotlib.figure.Figure at 0x2cea5db8550>"
      ]
     },
     "metadata": {},
     "output_type": "display_data"
    }
   ],
   "source": [
    "x = rank_list\n",
    "y = count_list\n",
    "plt.loglog(x, y, basex=2, basey=2, linestyle='None', marker='x', markeredgecolor='red') #Syntax for matplotlib\n",
    "plt.xlabel('Rank', fontsize=18)\n",
    "plt.ylabel('Count', fontsize=16)\n",
    "plt.show()"
   ]
  },
  {
   "cell_type": "code",
   "execution_count": 38,
   "metadata": {
    "collapsed": false
   },
   "outputs": [],
   "source": [
    "import csv\n",
    "with open('ZipFLaw_ArticleAPI_analysis1.csv','w') as fp: #Command to make csv\n",
    "    a = csv.writer(fp, delimiter = ',',lineterminator='\\n')\n",
    "    a.writerows(ls_ten,) #writerows and writerow would give a single row"
   ]
  },
  {
   "cell_type": "markdown",
   "metadata": {},
   "source": [
    "# Hence we have proven about ZipF Law that holds true after iterating over so many articles across a long range of dates and fetching the words by rank. The csv file is submitted for exact count as well"
   ]
  }
 ],
 "metadata": {
  "anaconda-cloud": {},
  "kernelspec": {
   "display_name": "Python [default]",
   "language": "python",
   "name": "python3"
  },
  "language_info": {
   "codemirror_mode": {
    "name": "ipython",
    "version": 3
   },
   "file_extension": ".py",
   "mimetype": "text/x-python",
   "name": "python",
   "nbconvert_exporter": "python",
   "pygments_lexer": "ipython3",
   "version": "3.5.2"
  }
 },
 "nbformat": 4,
 "nbformat_minor": 1
}
