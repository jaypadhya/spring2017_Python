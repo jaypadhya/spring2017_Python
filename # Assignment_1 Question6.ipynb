{
 "cells": [
  {
   "cell_type": "markdown",
   "metadata": {},
   "source": [
    "# Assignment_1 Question6"
   ]
  },
  {
   "cell_type": "code",
   "execution_count": 1,
   "metadata": {
    "collapsed": false
   },
   "outputs": [
    {
     "data": {
      "text/plain": [
       "['1789-Washington.txt',\n",
       " '1793-Washington.txt',\n",
       " '1797-Adams.txt',\n",
       " '1801-Jefferson.txt',\n",
       " '1805-Jefferson.txt',\n",
       " '1809-Madison.txt',\n",
       " '1813-Madison.txt',\n",
       " '1817-Monroe.txt',\n",
       " '1821-Monroe.txt',\n",
       " '1825-Adams.txt',\n",
       " '1829-Jackson.txt',\n",
       " '1833-Jackson.txt',\n",
       " '1837-VanBuren.txt',\n",
       " '1841-Harrison.txt',\n",
       " '1845-Polk.txt',\n",
       " '1849-Taylor.txt',\n",
       " '1853-Pierce.txt',\n",
       " '1857-Buchanan.txt',\n",
       " '1861-Lincoln.txt',\n",
       " '1865-Lincoln.txt',\n",
       " '1869-Grant.txt',\n",
       " '1873-Grant.txt',\n",
       " '1877-Hayes.txt',\n",
       " '1881-Garfield.txt',\n",
       " '1885-Cleveland.txt',\n",
       " '1889-Harrison.txt',\n",
       " '1893-Cleveland.txt',\n",
       " '1897-McKinley.txt',\n",
       " '1901-McKinley.txt',\n",
       " '1905-Roosevelt.txt',\n",
       " '1909-Taft.txt',\n",
       " '1913-Wilson.txt',\n",
       " '1917-Wilson.txt',\n",
       " '1921-Harding.txt',\n",
       " '1925-Coolidge.txt',\n",
       " '1929-Hoover.txt',\n",
       " '1933-Roosevelt.txt',\n",
       " '1937-Roosevelt.txt',\n",
       " '1941-Roosevelt.txt',\n",
       " '1945-Roosevelt.txt',\n",
       " '1949-Truman.txt',\n",
       " '1953-Eisenhower.txt',\n",
       " '1957-Eisenhower.txt',\n",
       " '1961-Kennedy.txt',\n",
       " '1965-Johnson.txt',\n",
       " '1969-Nixon.txt',\n",
       " '1973-Nixon.txt',\n",
       " '1977-Carter.txt',\n",
       " '1981-Reagan.txt',\n",
       " '1985-Reagan.txt',\n",
       " '1989-Bush.txt',\n",
       " '1993-Clinton.txt',\n",
       " '1997-Clinton.txt',\n",
       " '2001-Bush.txt',\n",
       " '2005-Bush.txt',\n",
       " '2009-Obama.txt']"
      ]
     },
     "execution_count": 1,
     "metadata": {},
     "output_type": "execute_result"
    }
   ],
   "source": [
    "import nltk\n",
    "from os.path import basename\n",
    "from os.path import splitext\n",
    "from nltk.corpus import inaugural\n",
    "inaugural.fileids() # To iterate over all the files "
   ]
  },
  {
   "cell_type": "code",
   "execution_count": 2,
   "metadata": {
    "collapsed": false
   },
   "outputs": [
    {
     "name": "stdout",
     "output_type": "stream",
     "text": [
      "604 : 1789-Washington\n",
      "95 : 1793-Washington\n",
      "803 : 1797-Adams\n",
      "687 : 1801-Jefferson\n",
      "783 : 1805-Jefferson\n",
      "526 : 1809-Madison\n",
      "524 : 1813-Madison\n",
      "987 : 1817-Monroe\n",
      "1213 : 1821-Monroe\n",
      "972 : 1825-Adams\n",
      "504 : 1829-Jackson\n",
      "482 : 1833-Jackson\n",
      "1267 : 1837-VanBuren\n",
      "1813 : 1841-Harrison\n",
      "1267 : 1845-Polk\n",
      "488 : 1849-Taylor\n",
      "1124 : 1853-Pierce\n",
      "902 : 1857-Buchanan\n",
      "1019 : 1861-Lincoln\n",
      "345 : 1865-Lincoln\n",
      "474 : 1869-Grant\n",
      "530 : 1873-Grant\n",
      "808 : 1877-Hayes\n",
      "981 : 1881-Garfield\n",
      "650 : 1885-Cleveland\n",
      "1313 : 1889-Harrison\n",
      "799 : 1893-Cleveland\n",
      "1199 : 1897-McKinley\n",
      "828 : 1901-McKinley\n",
      "388 : 1905-Roosevelt\n",
      "1385 : 1909-Taft\n",
      "637 : 1913-Wilson\n",
      "529 : 1917-Wilson\n",
      "1126 : 1921-Harding\n",
      "1164 : 1925-Coolidge\n",
      "998 : 1929-Hoover\n",
      "715 : 1933-Roosevelt\n",
      "698 : 1937-Roosevelt\n",
      "502 : 1941-Roosevelt\n",
      "270 : 1945-Roosevelt\n",
      "745 : 1949-Truman\n",
      "864 : 1953-Eisenhower\n",
      "592 : 1957-Eisenhower\n",
      "546 : 1961-Kennedy\n",
      "538 : 1965-Johnson\n",
      "714 : 1969-Nixon\n",
      "516 : 1973-Nixon\n",
      "504 : 1977-Carter\n",
      "855 : 1981-Reagan\n",
      "876 : 1985-Reagan\n",
      "754 : 1989-Bush\n",
      "604 : 1993-Clinton\n",
      "727 : 1997-Clinton\n",
      "593 : 2001-Bush\n",
      "742 : 2005-Bush\n",
      "900 : 2009-Obama\n"
     ]
    }
   ],
   "source": [
    "for c in nltk.corpus.inaugural.fileids(): # To iterate over the file ids and find the variables\n",
    "    text = nltk.corpus.inaugural.words(c) # To store the text values\n",
    "    base = basename(c) # To store basename\n",
    "    base = splitext(base)[0] # To split the base all unique words\n",
    "    print(len(set(x.lower() for x in text)),':',base)"
   ]
  }
 ],
 "metadata": {
  "anaconda-cloud": {},
  "kernelspec": {
   "display_name": "Python [default]",
   "language": "python",
   "name": "python3"
  },
  "language_info": {
   "codemirror_mode": {
    "name": "ipython",
    "version": 3
   },
   "file_extension": ".py",
   "mimetype": "text/x-python",
   "name": "python",
   "nbconvert_exporter": "python",
   "pygments_lexer": "ipython3",
   "version": "3.5.2"
  }
 },
 "nbformat": 4,
 "nbformat_minor": 1
}
