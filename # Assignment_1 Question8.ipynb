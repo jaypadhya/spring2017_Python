{
 "cells": [
  {
   "cell_type": "markdown",
   "metadata": {},
   "source": [
    "# Assignment_1 Question8"
   ]
  },
  {
   "cell_type": "code",
   "execution_count": 2,
   "metadata": {
    "collapsed": true
   },
   "outputs": [],
   "source": [
    "import nltk"
   ]
  },
  {
   "cell_type": "code",
   "execution_count": 3,
   "metadata": {
    "collapsed": false
   },
   "outputs": [
    {
     "data": {
      "text/plain": [
       "['10-19-20s_706posts.xml',\n",
       " '10-19-30s_705posts.xml',\n",
       " '10-19-40s_686posts.xml',\n",
       " '10-19-adults_706posts.xml',\n",
       " '10-24-40s_706posts.xml',\n",
       " '10-26-teens_706posts.xml',\n",
       " '11-06-adults_706posts.xml',\n",
       " '11-08-20s_705posts.xml',\n",
       " '11-08-40s_706posts.xml',\n",
       " '11-08-adults_705posts.xml',\n",
       " '11-08-teens_706posts.xml',\n",
       " '11-09-20s_706posts.xml',\n",
       " '11-09-40s_706posts.xml',\n",
       " '11-09-adults_706posts.xml',\n",
       " '11-09-teens_706posts.xml']"
      ]
     },
     "execution_count": 3,
     "metadata": {},
     "output_type": "execute_result"
    }
   ],
   "source": [
    "nltk.corpus.nps_chat.fileids()"
   ]
  },
  {
   "cell_type": "code",
   "execution_count": 4,
   "metadata": {
    "collapsed": true
   },
   "outputs": [],
   "source": [
    "x = []"
   ]
  },
  {
   "cell_type": "code",
   "execution_count": 6,
   "metadata": {
    "collapsed": false
   },
   "outputs": [
    {
     "name": "stdout",
     "output_type": "stream",
     "text": [
      "5441\n"
     ]
    }
   ],
   "source": [
    "for j in nltk.corpus.nps_chat.fileids():\n",
    "    text= nltk.corpus.nps_chat.words(j)\n",
    "    y = text\n",
    "    x.append(y)\n",
    "z = sum(x,[])\n",
    "z= list(set([i.lower() for i in z]))\n",
    "print(len(z))"
   ]
  },
  {
   "cell_type": "code",
   "execution_count": 9,
   "metadata": {
    "collapsed": false
   },
   "outputs": [
    {
     "name": "stdout",
     "output_type": "stream",
     "text": [
      "234377\n"
     ]
    }
   ],
   "source": [
    "wordList = nltk.corpus.words.words()\n",
    "wordList = list(set([i.lower() for i in wordList]))\n",
    "print(len(wordList))"
   ]
  },
  {
   "cell_type": "code",
   "execution_count": 11,
   "metadata": {
    "collapsed": false
   },
   "outputs": [
    {
     "name": "stdout",
     "output_type": "stream",
     "text": [
      "['', 'othah', 'excitin', 'looked', 'peace-and-quiet', 'sheesh', '2:55', 'nickleback', 'appologize', 'grrrrrrrr', 'anytime', 'escaped', 'licks', 'kickass', 'bumped', 'ldskdlsf', 'whatca', 'affairs', 'netflix', '246', 'democrats', 'chats', 'rapest', 'flavors', 'miiiiiiiiiiiiinnnnnnnnnnneeeeeeeeee', 'beans', 'lambergini', 'catches', 'hahhaa', 'oooooooooooooonnnnnnnnnnnneeeeeeeeeeeeeeesssssssss', 'kneez', 'hmm', 'spain', '85%', 'eeekk', 'dated', 'foreplay', 'erm', ':o', 'lookin', '--', 'cripos', 'aaahhhh', 'wheres', 'groups', 'lets', '1996', 'doin', 'sleep over', 'nce', 'fawked', 'immersed', 'ooo', 'nodda', 'boning', '+*+*+*+*', 'stores', 'cuppers', 'meredith', 'mama', 'lamborghini', 'lool', 'vbox', 'ignoring', 'n9ne', 'playing', 'happened', 'pissing', 'currious', '!!!!!!!!!', '<<<<<<', 'dood', ')))))))))))))))))))', '........................', 'deceived', 'burito', 'b-day', 'internet', 'hes', 'rothlisburger', 'suggestions', 'has', 'online', 'happend', 'uses', '=d', 'heyyyyyyyyy', 'goodie', 'tacoma', 'answering', 'gained', \"k's\", 'bodies', 'elo', 'pouts', 'hahahah', 'bied', '??!?!??!', 'birdgang', 'syndorme', 'casts', 'doupt', 't/y', '1299', '?!?!', 'ms.', 'evah', 'hahaaaa', 'calls', 'cookie', 'manson', '<<<<<<,', 'ahhhh', 'sat.', 'cyber', 'insuklting', 'youuu', 'chickens', 'babiess', 'o0', 'muhaha', 'pwns', 'fkajslf', 'love4s', 'lubbs', 'denver', 'seagulls', 'stans', 'cums', '..................', 'banjoes', 'gret', 'hearin', 'ughhh', 'thanx', 'louder', '3~<-..4@.', 'whistlin', 'theere', 'grilfriend', 'ft', '-(', 'rarly', 'ussy', 'balad', 'throws', ':]', 'fettish', 'dunno', 'scrambled', '( o y o )', '300', 'omg', 'heyyyyyyyyyy', 'latins', 'deaths', 'whispers', 'issues', 'boght', 'smirks', 'removes', '4', 'luverz', 'nm', 'hgfhgfjgf', 'pc', 'pedals', 'idiots', '<3333', 'kold', ')))))))))))', 'heard', '?????????', 'ahahh', 'congrats', 'nic', 'abortions', 'cereals', 'ciggareets', '32', 'ltnsea', 'flops', 'darlin', 'puts', 'mornign', 'realises', 'cardinals', 'w/', 'thah', 'hmmm', 'yello', 'wears', 'footprints', '$', 'sheesin', 'born-again', 'lyin', 'irc', 'beachhhh', ')))))))))))))))))', 'passes', '1', 'eitther', 'hheeyyy', 'bloooooooood', 'fishercats', 'teehee', 'suprise', 'poooland', 'gm', 'tx', 'shorty', 'feeds', 'dummmm', 'hahahahaaa', 'beams', 'byeeee', 'niceeee', 'using', 'missed', 'hotties', 'oo', \"rollin'\", '#prideisland', '?!', 'children', 'ack', '20.', 'paitently', 'nakie', 'yvw', '!.', 'reads', 'tennesee', 'hehehehe', 'gagas', 'www.wunderground.com', 'cardnials', 'yu', 'typed', 'spelled', 'kid', 'aime', 'pfft', 'playstation', 'remembah', 'pussies', 'otay', 'weeks', 'shows', 'fwd', 'nj', '. .', '*waves*', '++', 'booyah', 'muahssssssssssssssss', 'ii', 'goddamn', 'bigest', 'claws', '.. .', 'things', 'barks', 'gurls', 'froogle', 'retared', 'yepper s', 'tisk', 'lix', 'appears', 'grabs', 'delivers', 'gays', 'dik', 'quizes', 'nuff', 'thru', '92129', '-stay-', 'edgewood', 'soory', 'rooms', 'shpwing', 'files', 'mofo', ':o *', 'chatroom', 'hmph', 'estefan', 'shades', '98.5', 'stinky', 'reallly', 'shivers', 't-shirt', 'wubs', 'toenails', 'takes', 'answers', '............', ':-@', '--------------------', 'nad', '75', 'houses', 'cyas', 'daveeee', 'completly', 'wings', 'tounge', 'pmsl', 'extras', '<-', 'heroes', 'outa', 'ahh', 'homeboys', 'yum', 'flippin', 'byb', '73%', 'x-mas', 'miiiiiinnnnnnnnnneeeeeeee', 'chanowner', '57', '....................', 'needed', 'cusion', 'pleez', 're-thinks', 'cheers', 'typr', 'hrs', ':@', 'sites', '55.', 'sympathies', 'surfing', 'bahahahaa', 'waht', 'doody', 'yuuuuuuuuuuuummmmmmmmmmmm', 'wed-lock', '_', 'reached', 'sucks', 'comps', 'ogan', 'mmmmmmmmmm', 'lurks', 'respec', \"scrollin'\", 'arrived', 'hissy', '!!...', 'mmmmm', 'hiding', 'pictures', 'wz', 'co op', 'flashed', 'polllution', 'gettysburg', 'hahah', '102.6', 'sleepin', 'smacked', 'kisses', 'bites', 'sips', 'ewwww', 'soilwork', 'shocked', 'nite', 'asshole', 'hugggs', 'depeche', 'bbs', 'pigs', 'petunias', 'ck', '59%', 'sweetshybbw', 'bachelorette', 'mmhmm', 'abs', '11', 'jajajaaa', 'signed', '((((((((((((((((((', 'vm', '-o', 'snuggles', 'smokes', 'hertory', '=', '75%', 'played', 'updated', 'reasons', 'misbehaving', 'eeeeeeeeewwwwwwww', '\"...', 'fergalicious', 'burpin', 'hogs', 'wc', 'americans', 'pms', 'ltns', 'onuimso', 'walks', 'bumber', 'giva', 'ihavehotnips', '(((((((((((((((', 'gotta', 'violators', 'fella', 'headlights', '<~~~', 'kennedy', 'hangs', 'pounds', 'loc', 'lmfao', 'whitte', 'pming', '579', 'minutes', 'ahahha', 'chuckles', 'whisling', 'http', ';', 'muzak', 'lez', '121.7', 'alohaaa', 'specials', 'asss', 'cheeeez', 'freaked', 'farting', 'http://forums.talkcity.com/tc-adults/start ', 'agaibn', 'brightened', 'computor', 'impared', 'ans', 'waitin', 'urls', 'macho', 'p.', 'trolls', 't/c', 'numbers', '55%', 'b/c', '!!!!!', 'lil', 'masturbating', 'norny', 'mame', 'hang', '<<<<<<<', 'gracemont', 'wrek', 'chococake', 'lasts', '30', 'copone', 'enjoys', 'pleaseeeee', '34', 'pounces', 'whou', 'iamahotnipwithpics', 'helped', 'yepper', 'caan', '14-16', 'mittens', 'foxes', \"?'\", 'missin', 'twizted', 'heys', 'hopin', 'happpy', 'ladz', 'ghet', 'grrrrrrrrrrrrrrrrr', 'az', 'jw', 'wellbutrin', 'ft.', 'fetterline', 'amazingness', 'salsa', 'mmmmmmmmiiiiiiiiinnnnnnnnneeeeeeee', '^', 'p u s s y', '17', '(((((((((((((((((', 'shoes', 'il', 'hooooo', 'dreammm', 'pisses', '<<<<<<<<<<<<<<', 'dawnstar', 'oatmel', 'hih', 'cares', 'hyy', 'brings', 'bikes', 'nauty', 'seconds.', 'puhleaze', 'elev', 'criss-cross', 'baaaaalllllllliiiiiiinnnnnnnnnnn', 'wyte', 'e-v-e-r-y', 'gurlie', 'shaneeeeeeeee', 'jacking', 'horrified', 'bored', 'ciara', 'hm', 'riiiight', 'cuz', '60s', 'sdlfkjsj', 'niteeeeeeeeeeeeeeeeeee', 'chews', 'hheeyy', 'excuuuuuuse', 'checking', 'armtnpeat', 'doggies', 'dolls', 'ssri', 'nuttin', 'coggieeee', 'knuckles', 'xbox', 'every1', 'jumpin', 'fellows', 'shinedown', 'orders', 'tigers', 'neone', 'loves', 'paxil', 'cards', '45.5', \"'ve\", 'ears', 'decades', '.a.n.a.c.?.n.?.a.', '70%', 'rolls', 'jackie', 'brooklyn', 'owww', 'cris-cross', 'cams', 'whatcha', 'whistles', 'sf', '-------------', '<<', 'shoppin', 'gaspppp', '50', '10:49', 'gn', 'shoots', '*smewchies*', '<--', '...........', 'wtf', 'wowsa', ')))))))))))))))', ')))))))', 'perving', 'controll', 'biyatch', 'dokey', 'eay', '>', 'zoloft', 'rashes', 'lies', 'babay', 'proud', 'nc', 'biographys', 'o.k.', 'luv', 'impaired', 'trashed', '=p', 'lbs', '-_-', 'pandas', 'plssss', 'byeeeeeeee', '@', 'haters', 'appologise', 'poorrr', 'hoping', 'dawg', '###', 'mising', 'subsitute', 'sores', 'md', 'tooooooooooo', 'sexi', 'adds', 'laffin', 'hoo', 'kc', 'puzzles', 'ques', 'irl', 'fishers', 'erics', 'smax', 'flattered', 'tastes', 'plenaty', '29803', 'f-ing', 'shakes', \"@-,'~\", '................', 'bwahahahahahahahahahaha', 'nicname', 'afk', '. . .', 'j/k', \"passin'\", 'veg', '^_^', 'huuuuuuuuuuuuuuuuuuuuuuuuuuuuuuuuuuugz', 'cuffed', 'coughed', 'co', 'covers', 'ontario', '26', 'cars', 'iamahotnip', 'kissed', 'awesomee', 'stron', 'woods', 'joking', 'involves', '/', 'zzzzzzzing', 'kicked', 'touches', 'ahahah', 'hahahahahahahahahahahahahahahaha', ':', '<333', 'fraggle', '=)', 'myspace.com', '(.', 'wins', 'disocvered', '20', 'sunglasses', 'mornin', 'hugzzzzzzz', 'wher', 'changed', '2nd', 'fingers', 'ebay', 'wats', 'out.', 'hugs', '.)', 'mp3', 'controllers', 'facilitated', 'ships', 'costumes', 'splelnig', 'yw', 'kansas', '((((', \"pm'n\", ',', 'o_0', '--------->', 'geeshh', 'lysol', 'months', '2pac', 'proked', '80', 'noooooooooo', 'waits', 'proocessing', 'url', ')?', 'dat', '((((((((((((((((((((', '9', 'ovr', 'ewedding', 'guys', 'priorities', \"stuffin'\", 'arggghhh', 'sighs', 'backatchya', 'yeppers', 'fails', 'gf', '8', 'permenant', 'parents', 'bbiam', '))))))))))))', 'sweeeeeeeeet', 'sowwy', \"miss'n\", 'moths', '$27', '6:53', 'diseast', 'intersting', 'outta', 'jayse', 'nekkies', '>>>>>>>>>>>', 'coworkers', 'freeezinggggg', ':blush:', 'happens', 'yrs', 'blessings', 'idnt', 'lixxx', 'defragging', 'bitches', 'burried', 'sammich', 'anythin', 'trippin', 'wooooohoooo', 'ty', 'messed', 'says', 'havin', '>.>', 'gurrrrl', 'yooou', 'okkkkkk', 'nawwww', 'damnit', 'perv', 'wanted', 'thugs', 'hott', 'hunters', 'software', 'paints', 'puter', 'screams', 'aggravated', '60', 'chatted', 'oppertunity', 'kneess', 'changing', 'boyfriend', '//', 'beats', 'garciae', '!??', 'gente', 'mmmmk', '7:45', 'sounds', 'ballin', ':)', 'comenting', 'bio', 'roadrunner', 'porn', 'roomies', ':):):)', ',,', 'sldfjlsdf', 'mmmkay', 'hiy', ')))))))))))))))))))))))))))))))', 'freaing', 'gritt', '\\\\', 'ummm', '. ...', 'whered', 'soybeans', 'whoaaaaaaaaaaaa', 'y/w', 'dokken', 'livin', 'adams', 'sry', '13', '23', 'females', 'catterick', 'chamillionaire', 'moochhhhhhhhh', 'putting', 'coonarsee', 'freaks', 'o_o', '-6', 'h0rny', 'appleton', 'akdt', '; ..', 'ooeer', 'yout', 'mkay', 'sumpin', 't-mobile', 'glitches', 'pissed', 'j/p', 'tatatatnanaantatat', 'nevermind', 'tears', 'means', 'nashville', 'bloe', 'tonawanda', 'neysa', 'aligator', 'tyrese', 'eeeek', '????????', 'pills', 'nods', 'yall', '100', 'doublewide', 'screamo', 'everone', 'fillin', 'grrrrrring', 'wahoooooooo', 'wansta', 'flirts', \"'s\", 'drugs', 'email', '=(', 'schlep', '76%', 'dryer', 'aok', 'kness', '14', 'biatch', 'shup', 'bandito', 'ehh', 'stories', '??!!', '47', '!!!!!!!!', 'asses', 'ppl', 'frustrating', 'wanna', 'kittie', 'uyes', 'naughtier', 'whiteys', '<<<<,', 'killeded', 'jujubees', '(((((((((((((((((((((((', 'raarrrrrr', 'gotaa', 'sits', '<,', ')))))))))', 'litening', 'peeps', 'in.', '6', 'thows', ',,,', 'grettings', 'curls', '46.', 'detroit', 'cho-co-la-te', 'rotflmao', 'anygirl', 'brb', 'reunion.', 'hitting', 'cya', ':-o', 'eyes', 'knockin', 'asked', 'tries', ')', 'wel', 'hawt', 'losted', 'jrz', 'tyvm', '10th', 'thoughts', 'xxxxxx', 'pages', 'bitdh', '#talkcity-20s', ';-)', 'weeeeeeeee', 'adduser', 'smoochies', 'que', 'convo', 'dipset', 'martini', 'halfa', 'tah', '.45', 'ysssssssss', 'thristy', 'dr', 'paid', 'hugsssss', 'pullin', 'innit', 'whys', '(((', 'hgey', \"mf'er\", '<', '*hugs*', 'affects', 'perved', 'geessh', 'cst', 'donno', 'mmmmmmmmmmmmmm', 'concernin', 'yup', 'lovers', 'horriable', 'newp', 'affari', 'moms', '19', 'frags', 'trials', 'hugss', '37', 'buh', '<333333333', 'cougs', '4.20', 'compliments', '51', 'hhehe', 'vvil', 'welome', 'hawaii', '36', 'bbbbbyyyyyyyeeeeeeeee', 'drools', 'cramps', '4:03', 'balls', 'earplugs', 'sings', '^^^', 'controllin', 'nooo', 'haaa', 'ribs', 'owuldnt', \"ok'd\", 'beatles', 'iz', '55', 'uhhh', 'totaly', 'headach', 'gettin', 'others', '!!!.', 'stairs', 'foxwoods', 'experimenting', 'surprised', 'takers', 'entitled', 'yerself', 'shhhh', 'freeeezinggg', 'chanop', 'bulls', 'pm', 'hahahahahahaha', 'pmers', 'hmmmm', '!...', 'hahaaa', 'd=', 'noooooooooooooo', '.(..(.vmp3 vi.p.t.)..).', 'guts', 'walderslade', 'apoligize', 'tellin', '!!!!!!.', 'feelings', 'mwahhs', 'sumfin', 'ifr', 'techniques', 'chp', 'crashed', \"n't\", 'mris', 'canehda', '25', 'sleepover', 'talks', 'playas', '8082653953', 'benz', '!!!!....', 'silverstein', 'denzel', '<----', 'moves', 'bj', 'kts', 'drivers', 'midgets', 'laughin', '2.3', 'sullivan', 'prays', 'opps', 'pasties', 'oldest', 'satisfie', 'google', 'laguna', 'playin', 'booboo', 'suree', 'sprays', \"'.\", 'italians', 'hmmmmmmmmmm', ':.', 'chingy', 'fluids', 'dj', '.).', 'ctrl', 'qwertyuiop', 'keys', 'dirrrrty', 'laterssss', \"'ello\", 'results', 'niceeeee', 'exchanged', 'folks', 'hows', '???', 'eeewww', 'hmmmmm', 'rey', 'tryer', 'goths', 'alotta', 'wasup', 'soo', 'lolololll', \"y'\", 'lol.', 'wisconsin', ',,,,,,,', 'slkfjsldkfjs', 'nickelback', 'eng', 'dahlin', 'geeze', 'mom', 'messaging', ')))))))))))))))))))))', '46', 'syllables', 'hairs', 'ufc', 'tazzmaniane', '64.8', '))))', 'heyyyyy', 'ct', 'lives', 'waves', 'serg', 'okies', 'wv', 'lthen', 'victims', 'weeeeeeeeeeeeeeee', 'e-mail', 'realise', 'judges', 'ohh', 'london', '((((((((((((', 'popped', '*sniffs*', 'buddyyyyyy', 'rained', 'csi', \"@..3-,'~.\", 'pleased', '<3', 'hb', 'impressed', 'churches', 'pies', 'brrrrrrr', '//www.wunderground.com/cgi-bin/findweather/getforecast?query=95953#fir', '&', '.op.', 'mmmm', ':p', 'streched', '.........', 'bootay', 'defrags', 'wooo', 'sum1', '..........', 'itz', '#14-19teens', 'kicks', 'geesh', 'pics', 'atl', 'capab;e', 'huggs', '1-900-anal-sex', 'akon', 'ahhh', 'snores', 'flatts', 'smarter', 'lousiana', 'laffs', 'willams', '??@', 'downloaded', 'comprende', 'aussies', 'wana', 'w/b', 'brwn', 'oates', 'pro-se', 'uk', 'pdt', 'myspace', 'teo', 'cho-co-late', 'frm', 'homes', 'walked', 'checkin', 'chocha', 'febe', 'cyber.', 'firs', 'asl', '(__i__)', 'eeek', 'chatland', 'fer', 'helloooo', 'despises', 'computers', 'youuuu', 'scrolls', 'woooooooooaaaahhhhhhhhhhhh', 'bucks', 'boooooooooooglyyyyyy', 'wuuppin', 'lb', 'courst', 'categories', 'sweats', 'posts', 'tennessee', 'nortenos', 'humple', '...', 'snickers', 'mhm', 'uffff', 'o.0', 'obbts', 'mm', '6:51', 'zyban', 'nd', 'ep', 'ooer', 'notes', 'o.o', 'superhiway', 'nicks', 'donuts', 'zzzzzzzz', 'despie', 'tryin', \"shinnin'\", 'ones', 'constituents', 'listens', 'vanished', 'oops', 'redneck', 'complains', 'scuba', 'dd', '99701', 'grlz', '92780', 'coem', 'seeee', \"doin'\", '43.', 'aqwesome', 'ops', 'h.s', 'dvd', 'beleive', '1985', 'prono', 'lmaoo', 'deeper', 'xd', 'bloooooooooood', 'greetings', 'handyman', 'any1', 'snorts', 'smiles', 'fl', 'sigur', 'dumbass', 'shit', 'boys', 'ntmn', 'whitesnake', '0', '68%', 'gs', 'chineese', 'biiiiiitch', 'hahaha', 'couldnt', '-->', \"pro's\", '!!!', 'brady', 'whupped', 'riiiiight', 'okey', \"o's\", 'grrrrrrrrr', 'killed', 'tommorrow', 'hav', 'eeewwwwww', 'pffft', 'cries', 'werd', 'hates', 'fries', 'z-ro', 'pokes', '..(..', 'agurlwithbigguns', 'heeeey', 'bi', '!!!!!!!!!!!!!!!!!!!!!!', 'loved', 'burryed', 'babycakeses', 'latina', 'fallz', 'hix', 'brbbb', 'breaks', '57401', 'ads', '69', 'warnings', 'named', 'rubs', 'bbl', '15', 'photshopped', 'welcomes', 'ny', \"makin'\", '98.6', 'scares', 'hii', 'dontcha', 'sesky', 'welll', '.owner.', 'wondered', 'spirits', 'husteling', '~smirkz~', '>>>>>>>>>>>>', 'whaaaaats', 'freakin', '33', 'yikes', 'clinicals', '))))))))))))))))))))))))))))', 'coffe', '1016.', ';)', 'awwwwwww', 'burns', 'bc', 'definately', 'yawns', 'bloooooooooooood', 's.m.r.', 'enuff', 'yesh', 'profilrs', 'controlling', 'bagels', 'clicked', '6:41', 'leakin', 'hehehe', 'cottons', 'combo', 'misses', 'farts', 'diggin', 'sposs', 'cus', 'hiyas', '<---', 'leaders', 'chatr', 'gng', 'baord', 'plently', 'worries', '30.00.', 'elbows', 'use full', 'mothers', 'ohwa', 'dunkin', 'oy', 'im', 'allergies', 'comments', 'aiken', 't he', 'gentlemen', 'canadaian', '-21', 'fawker', 'pweeze', 'nakey', '-s', 'withdrawl', 'muahsssssssssssssssssss', '((((((((((((((', 'waddles', 'planned', 'k-fed', 'pos', 'waaa', '56.', '((((((', 'cool1024', '280', 'liam', 'wimmins', 'nada', '!!.', 'pursued', 'gives', '49', \"pm's\", 'sounded', 'subscriptions', '!???', 'ciao', 'screach', 'munches', 'gals', 'cleveland', '\"', 'starts', 'privmsg', 'knees', 'ms', 'feet', 'limits', '*spank*', 'joshy', 'heyyy', 'profiles', 'abou', 'omggg', 'anti-sexy', 'pujols', 'ello', 'phylosipher', 'problemo', 'weeeeeeeeeeeeeeeeeeeeeeeeed', 'kidding', 'awwwwww', 'hiii', 'builds', 'dya', 'ontrobution', 'yoooou', '27', 'pours', 'connecticutt', 'choc', 'yessum', 'ryaon', 'fuddahnut', 'creme', 'rutger', 'hahahahahaha', 'wooooooooooooohoooooooooooooooo', 'messages', 'misbeahve', 'loveing', '&^', 'talked', 'perth', 'louisianna', 'deleware', 'hugsss', 'russion', 'infor', '!?', 'prolly', 'choices', \"shakin'\", 'eww', 'dyslexic', 'muahhh', 'fongul', ':love:', \"'n'\", 'settles', '<<<', 'nicnames', 'awesomes', 'jammers', 'tks', 'whewwwwww', 'antidepressants', 'chica', 'cyb3r', '2day', \"c'm\", 'trippy', 'canadain', 'yayayayayyy', '!=', 'de-tubetop', 'biiiatch', 'banned', 'thx', \"e'wjfghky\", 'friends', 'seconds', 'ros', 'commanded', 'wussups', '>.>->', 'predicted', 'rocks', ',,,,', 'strickly', 'topics', 'bishes', 'alternatives', 'aiiiiiiiiiiiiiiiiiiiiiiii', '*blush*', 'mmmmmm', 'kiddin', 'cookies', 'died', 'attempted', 'mothas', 'wonderin', 'cute.-ass', 'blew', 'alterz', 'hhaaaaatttee', 'walmart', 'twoel', 'paypal', '#40splus', 'hmmmmmmmm', 'moanin', 'bares', 'lol', 'voices', 'mami', '=o', 'bwhaha', 'relaxes', 'outs', 'suggested', 'hearthechatters', 'mowin', 'shocks', 'mexicans', 'anyyyyyyyyyyyyyyyyy', 'n\"t', \"g'\", 'clooney', 'nyc', 'msn', 'jus', 'kookies', '224', 'boing', '~blusherz~', '******', 'ky', 'wothough', 'buying', 'goneee', 'mmmmmmmmmmmmm', 'roomate', 'samn', 'kidnaped', 'goooooo', 'humm', 'heeheeheeheeheehee', 'barbieee', 'cigars', 'spanked', 'hahahhahah', '))))))))))', 'observed', 'innocense', 'pasa', 'wanders', 'boinked', \"'d\", 'brakes', '423', 'msutah', '99703', 'lights', 'syck', 'ther', 'pulling', '>:->', 'raaaaaaaaaaaaaaaaaaaaaaaaaaaaa', \"t'anks\", 'lapd', 'moped', '12%', 'ooppsss', 'fucking', 'horace', 'suked', '47.', 'msners', 'f.b.i.', 'lotsa', '.', 'p.ussy', \"='s\", 'elected', 'pinches', 'othing', 'okay', 'whoopz', 'nooooo', 'rats', 'ssid', 'tootsie', ']]]]]]]]]]]]]]]]]]]]]', '~!', 'pumpkins', 'woooohoooo', 'sexist', '!!!!!!!!!!!!!!!!!!!!!!!!!!!!!!!!!!!!!!!!!!!!!!!!!!!!!!', 'stationed', 'suffers', 'adults', 'jordison', \"talkin'\", 'gags', '<<<<<', 'thanksss', 'cmon', 'lucifuge', '!!!!!.', 'chattin', 'darlings', 'pineapples', ';]', 'gguyyyzzzz', 'docs', 'heyheyhey', 'guns', 'post-haste', 'homies', 'sooners', 'hehehee', 'fuck', '=/', 'coughs', '90', 'drags', 'boed', 'makes', 'adoted', 'laptop', '<----------', 'sicily', '65%', 'everbody', 'listenin', '(*&(^', 'paragraphs', 'hots', 'lovin', 'jerkettes', 'necromancers', 'laters', 'adreniline', 'n e', 'sorta', 'tryina', 'johny', 'wanan', 'metallica', \"yw's\", 'meh', 'frenchkiss', 'gamefly', 'conway', 'whooo', 'loveliest', 'eroticaust', 'heyy', 'pedofile', 'downs', 'jucilicious', 'muah', ';p', 'liked', 'driveby', '1930', 'beeeeehave', 'azerbaijan', '=-\\\\', 'spose', 'normy', 'heyyyyyy', 'yards', 'louisville', 'enters', 'wahoooooooski', 'toes', 'vetrabrate', 'drinks', 'babes', '<33333', 'match.', 'gonna', 'throught', 'clients', 'dem', 'inhales', '@$$', 'buses', '818', 'psh', '220', 'hr', '100%', 'jto', '31', 'xcitable', 'sneezed', 'me/', 'definitley', 'coudl', 'rumour', 'years', 'teh', 'wildcard', 'lamborgini', 'likes', 'harley', 'thnx', 'remembers', 'mooooooooooooooooooooooooooo', 'comin', 'waters', 'memories', 'win win', 'guyzz', 'seems', 'chics', 'bak', 'teachers', 'whaaa', \"ya'\", 'fractured', 'alwys', 'wuts', 'gtg', '.;)', 'yummylicious', 'noth', 'nothin', 'op', 'contemplating', 'haha', 'laughs', '41', 'grrr', 'alot', 'mins', '295', 'warned', 'sp', 'mena', 'goodbye', 'wazz', 'winks', 'homeade', 'pokkies', 'pp', 'aterry', 'applaudes', '(((((((', 'non-smoker', 'umm', '.(..(.vmp3 v1.7.4.).)', 'smewchies', 'multitasking', '(((((((((((((((((((((((((', 'ohhh', 'f5', 'cops', '!!!!!!!!!!!!!!!!', 'dropped', 'schmoopies', 'bruises', 'rethinks', 'huggss', 'bacl', 'coolcat', '\"?', 'lucy-fur', 'drivin', 'fart', \"sayin'\", 'temples', 'moved', 'hel', 'kawing', '2', 'uuuhhh', 'yeas', 'cutes', ')))))', 'tv', 'chops', 'll', '>_>', 'lmaooo', '138', 'wishes', 'lala', 'heyyyy', 'placce', 'ja', 'sooo', 'roads', 'birfday', 'n/', 'roleplay', 'fragged', 'packs', 'yikesssss', 'serties', '))))))))))))))', 'ahhhhhhhhhhhhhh', 'plows', 'danes', 'prrty', 'blowjob', 'whos', '??????', \"cyberin'\", 'suprised', 're-thinking', 'confessed', 'images', 'mwahs', 'whjat', 'gees', 'eticket', 'exwife', 'burps', 'hola', 'paradis', '(((((..', '!!!!!!', 'cheking', 'attracted', 'neked', 'books', 'tennies', 'monthes', 'g-mobile', 'hiom', 'skateboard', 'skydiving', 'fiddles', 'smells', 'indiantown', 'peeks', '147.7', 'sux', 'foley', 'declaw', '.......', 'naples', 'blankie', 'straightens', 'heya', 'ltr', 'thje', 'injureis', '93', 'b4', 'gottsa', 'grrl', 'ahhah', '!!!!!!!!!!!!!!!!!!!!!!!!!!!!', 'muahhhhh', 'bears', ',,,,,', 'hheeyyyyyyyyyyyyyyyyyyyyyyyyyyyyyyyyyyyyyyyyyyyyyyy', 'sharing', 'rafters', 'pushed', 'lasts30', 'offa', 'sucka', 'pokin', 'barfights', 'teenagers', \"s'\", '.:', 'acros', 'muahz', 'talkin', 'watchin', '<33', 'divorced', 'hugsssssssss', 'nerd', 'runs', 'guyz', 'offence', ':d', 'nads', 'noting', 'bounced', 'questions', 'knocked', 'items', 'muahzzzz', 'deals', '\"s', \"<3's\", 'borat', 'gorda', '$$', 'hio', 'slaps', 'overplaying', '((((((((((', 'bugs', 'showered', 'aim.com', 'hiya', 'doors', 'lmaoooo', 'started', 'yada', 'sevendust', 'lacking', 'smirkz', 'geeshhh', '....', 'ohhhhhhhhhhhhhhhh', 'bones', 'duh', 'raed', '?....', 'cnnecticut', '>>>', 'aww', 'pervin', \"'m\", 'hours', 'recieve', 'errrrr', '.....', '05.', 'nawp', 'orta', 'heyyyyyyy', 'grea', 'o<|=d', 'knows', 'ooooook', 'scared', 'woot', 'chokes', 'smallfry', '56', \"ex's\", 'themselvs', 'cleared', 'backroom', 'imma', '43', 'awwwwwwwwww', 'ooooooooooo', 'blech', 'hooo', 'backfrontsidewaysandallaroundtheworld', 'peolpe', 'temptations', 'words', 'telllin', \"ol'\", 'dsklgjsdk', 'neverneverland', 'eggs', '))))))))))))))))))))))', 'heee', 'omnious', 'niters', '!!!!!!!!!!!!!!!!!!!!!!!!!!!', 'comp', '!!!!!!!!!!!!!!!!!!!!!!!', '......', '?.', 'jush', 'wants', '(((((((((((', 'purty', 'heheh', 'worl', 'ive', 'goodnite', 'splenda', 'kinda', 'receprion', 'byeee', 'mainland', 'cuddlicious', 'holdin', '..............................', ':|', 'wearin', '39', 'beeehave', 'caused', 'vs.', 'tapes', 'okikes', '3', 'magine', '1cos', 'wonders', 'males', 'barbie', 'waz', '2006', 'muh', 'awwww', 'confusting', ':-(', 'fawk', 'hohohohhohhoo', 'akron', 'e-husband', '[[[[[[[[[[[[[[[[[[', 'gooo', 'sets', 'wheeeeeeeeeeeeeeeeeeeeeeeeeeeeeeeeee', 'shoulders', 'abourted', 'burger', 'wif', '*grins*', '^^', '93%', 'names', 'pukes', 'fallout', 'england', 'balck', 'urself', 'ps2', 'invisiable', 'ohhhh', 'splains', 'gaaaaaaay', \"it's\", 'beuty', 'fairbanks', 'com', 'gettign', 'sales', 'singleeeeeeee', '*vbs*', 'marlaya', 'cali', 'handheld', 'bf', 'oot', 'scusezzy', 'ol', 'chatt', 'noo', 'dollars', 'oooh', 'fishercat', '=]', 'dissing', '!', 'bouncers', 'themself', 'orgies', '?..', 'soakin', 'goin', 'asnwer', 'yess', '))))))))', 'italy', 'ewww', 'cdt', 'everytime', 'babblein', 'hahahaa', '5', 'soojn', ',,,,,,,,,,,', 'hendrix', 'chunks', 'hafta', 'earrings', '((((((((((((((((((((((((', 'thot', 'ohhhhhh', 'sexiest', 's3x0r', ':/', 'mahn', 'huskers', '3333333', 'scuk', 'caiuse', 'dayum', 'freesbee', 'finds', 'forgets', 'cepn', 'wrecked', 'jonesboro', '16.', 'heads', '#', 'youer', 'confusing', 'maidstone', 'bothering', 'chcken', 'pr', 'http://www.shadowbots.com', 'declawed', 'wb', 'fock', 'crosses', 'extensions', 'johnson', 're-think', '(((((((((((((', 'boyz', 'whuuped', 'llloooozzzzeeerrrrzzzzzzzzzzzzzzzzzzzzzzzzzzzzzzzzzzzzzzzzzzzzzzzzz', 'moanz', 'stretches', '<perk>', 'freaking', 'shots', '####', 'gezzz', 'blondes', 'heeee', 'oopps', 'rights', '59', ')))))))))))))', 'wth', '453', '28', 'e-bay', 'seminilla', 'talkcity', 'fulfilling', '(', 'oi', 'ff', 'seuss', 'tok', 'est', 'monsters', 'quistion', 'falls', 'ooh', 'giggles', 'btw', 'standin', 'ages', 'du', 'women', 'fliuds', 'heyyyyyyyyyyyyyy', '06.', '!!!!!!!!!!!!!', 'jr', 'assumes', 'hahhahahaha', '1.99', '35', 'moans', 'kmph', '-', 'minigames', 'tjhe', 'nz', '33982', 'downnnnnn', 'thinkin', 'lonley', 'thang', 'ahah', '~', 'massaged', 'hartford', 'hummmm', 'drops', 'refrains', '?', 'strangers', 'picks', '1.98', 'bro', ')))', 'shakin', 'dances', 'fishin', 'hallo', 'tips', 'looks', '6:38', 'yoko', 'mmmomom', 'wiltou', 'byes', 'mauh', 'holocaustyourmom', 'rules', '?????', 'geeks', 'oooooooooooo', 'ltnc', 'cheaking', 'forwads', 'stressed', 'peoples', 'pvt', 'oc', 'arround', '??', 'imhave', 'flames', 'fits', 'dork', 'hottie', 'reschedual', \"rn's\", 'n.n', 'nah', 'lists', 'evertonr', 'youre', 'raining', 'ringtones', 'sexcite', 'exchanging', 'shrugs', 'tabbed', 'un-freeze', 'jeter', '=[', 'enuf', 'yeh', 'petanmart', 'nudes', 'sox', 'alohas', '45', 'daughters', \"'\", 'brothers', 'meds', 'temp.', 'mikeeeeeeeeeeeeeeeeeeeeeeeeee', 'belongings', 'tickets', 'czeching', 'boi', 'k-mart', 'futurama', 'ppolitical', 'hellos', 'f*cktards', '95953', 'nooooooooooooooo', 'martinis', 'akst', 'foothills', 'n;t', '21', 'hfglhs', '((((((((', 'socks', 'ewwwww', '1200', 'estra', '99', 'lolol', '>>>>>>>>>>', 'luvs', 'mcgraw', 'fav', 'yarrrr', 'no-no', 'ewwwwww', '<<<<', 'meep', 'comon', 'reminded', 'dotn', 'swats', '38', '9.53', 'coconuts', 'lmaooooo', 'jerimiah', 'babies', 'awrighty', 'callifornia', '(((((((((', 'dr.', 'nevah', 'cpr', '(((((((((((((((((((((', '!!!!!!!', 'weapons', 'repeating', 'passed', 'sw', '<empty>', '28147', 'joined', '360', 'este', 'boobs', '*', 'awsome', ';0', 'meyooky', 'asks', 'dies', 'o0o', '<33333333333333333', 'ahhhhhh', 'powter', '`', 'virius', 'didnts', 'closes', \"iggy'd\", 'e1', 'hmmmmmmm', 'kellogs', 'prisoners', 'congrat', 'tackles', 'caint', 'frst', 'willis', 'nails', 'streaks', '.(.', 'grins', 'nebraska', 'questioned', 'lpn', 'jk', 'movin', '700', 'ps', 'hom', 'anithing', 'jokes', 'hits', 'lesbo', '73042', 'bandsaw', ';-(', 'pssst', 'alzheimers', 'watches', 'talkiing', 'co-op', '24', 'edmonton', 'opr', 'assholes', 'wheels', 'aol.com', 'chathide', '!!!!!!!!!!!', 'iamahotnipwithhotnippics', 'icky', 'solved', '29', 'tooo', 'finers', 'allowed', '#talkcity_adults', '...................', '!!', 'cooooooooookiiiiiiiiiiiieeeeeeeeeeee', 'anymore', 'uhh', 'having', 'hands', 'powers', 'nostrils', 'isnt', 'douchebag', 'msg', 'moonie', 'keeps', 'dyed', 'tighty', 'legs', 'wigglez', 'cyb3r-lover', 'typing', 'yawnssss', 'peppersteak', 'girlfriend', 'ooooooo', 'winds', 'degrees', 'smacks', 'unisom', 'laughed', 'plays', 'sentences', 'ridin', 'thinks', '3:45', 'adjusts', 'counts', \"''\", 'eeww', 'jerketts', '1900', 'fck', 'hahahaha', 'allo', 'dl', 'compoud', 'arrested', '22', 'ewwwwwww', '12', 'iamahotniplickme', '39.3', 'sexs', 'stirred', '???????', 'kev', 'depends', 'dman', '29.88.', 'descriminate', 'kewl', 'downloading', 'deop', 'whhhooooo', 'goodnight', 'o.k', '\\\\ty', 'freind', 'fergie', '9:10', 'hpa', 'davis', 'prittier', 'lavendar', 'lawl', 'ri', 'usa', '+', 'px', 'repeats', '........', 'zebrahead', 'kong', 'problems', 'sincy', 'yoder', 'holds', 'seee', 'songs', 'afe', 'heyyyyyyyy', 'tdr', 'jammed', '7', '1980', 'pushes', 'specalily', 'senor', 'oooooooooooglyyyyyyyy', 'fuked', 'lovelies', 'tosses', '!!!!', 'gayoholic', 'aaaaaaaaaaaaaaaaa', 'yes.', 'askin', 'maps', 'webcams', 'femine', 'farms', 'yoll', 'ridem', 'games', 'towels', 'poeple', '>?', 'daamn', '396', 'shouldve', 'ooperative', 'pssssh', 'rofl', '*drools*', '77', 'gawd', ':(', ':tongue:', 'jumps', 'fuckin', 'sleeps', 'jerks', 'meeeeeeeeeeeee', 'yeee', 'itches', \"martini's\", 'va', '18st', 'knw', '30.', 'aloha', 'byeeeeeeeeeeeee', '247', 'yay', 'xxxxxxxxxx', 'dojn', 'webcam', 'plz', 'ignored', 'handing', 'vroooom', 'blazed', 'recomend', '20s', 'pervs', 'mwahhss', 'bouts', 'hx', 'pppppppppppew', 'nyone', 'woah', 'sucked', 'dreaded', 'biebsa', 'howz', 'ono', 'nicer', 'nbc', \"'ll\", 'ico', '*wow*', 'beattles', 'qq', 'clubs', 'sayn', 'swackhammer', 'fucks', '185', 'elections', '-...)...-', 'o/~', 'mspace', '53', 'dreams', 'called', 'xxxed', 'f**kalicious', 'spins', 'oppsss', '.............', 'perked', 'argh', 'givs', 'nadda', 'tits', 'scorpions', 'gets', '<3333333333333333', 'victors', 'deciding', 'ladis', 'tenn', 'homophobic', 'recovering', '-17', 'hubbys', 'mmm', 'beckley', '..', ']:)', 'dratts', '18', 'darwin', 'kool', '16', 'asking', ':-)', 'wantin', 'coupons', 'lampert', 'lmao', 'spaces', \"'re\", 'tthe', 'checks', 'stares', '10', ':beer:', '~winkz~', 'weenis', '?!?!?', 'shaun', 'oooooo', 'tc', 'withing', 'typin', 'rumours', 'heh', 'contast', 'early20s', 'appearently', 'mopeds', '1012.', 'uh', 'salut', 'jammies', 'actualy', 'illin', 'vuela', 'ooopppps', 'waddup', 'salisbury', 'warts', 'sunnn', 'retahhhhded', 'awww', 'whispre', 'tlak', 'shups', 'robbie', 'dangit', 'roses', 'weeeeeeeeeeeeeeeeee', '!!!!!!!!!!', 'hangin', '????', 'euphamisms', 'chik', 'sisters', 'lurkin', 'ahhahahaha', 'hiiii', 'fucker', '(((((', 'tere', 'bein', 'cakes', 'f.', 'girls', 'caps', 'shes', 'feels', 'lllllllliiiiiiiiiikeee', 'scopes', '((((((((((((((((((((((((((', 'aynawy', 'e-herpes']\n"
     ]
    }
   ],
   "source": [
    "Unusual_words = list(set(z)-set(wordList)) # To find the unusual words in the list\n",
    "User_words = [] # To find the user_words in empty string\n",
    "for x in Unusual_words: \n",
    "    if x.startswith('u'): # Check for username\n",
    "        for i in x:\n",
    "            if i.isdigit():\n",
    "                User_words.append(x)\n",
    "                break\n",
    "Unusual_words = list(set(Unusual_words)-set(User_words))\n",
    "print(Unusual_words) # Unusual words not in normal words"
   ]
  }
 ],
 "metadata": {
  "kernelspec": {
   "display_name": "Python [conda root]",
   "language": "python",
   "name": "conda-root-py"
  },
  "language_info": {
   "codemirror_mode": {
    "name": "ipython",
    "version": 3
   },
   "file_extension": ".py",
   "mimetype": "text/x-python",
   "name": "python",
   "nbconvert_exporter": "python",
   "pygments_lexer": "ipython3",
   "version": "3.5.2"
  }
 },
 "nbformat": 4,
 "nbformat_minor": 1
}
