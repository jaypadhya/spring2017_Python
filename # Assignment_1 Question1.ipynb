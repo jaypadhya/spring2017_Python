{
 "cells": [
  {
   "cell_type": "markdown",
   "metadata": {},
   "source": [
    "# Assignment_1 Question1 "
   ]
  },
  {
   "cell_type": "markdown",
   "metadata": {},
   "source": [
    "##\n",
    "Under package Gutenberg, see what files are in it.\n",
    "Find out how many words and how many unique words in file 'austen-persuasion.txt'.\n",
    "Calculate the frequency for each words and show the top 10 most frequent words and their frequency.\n",
    "Try NOT to use FreqDist module. Keep the punctuation and stop words in this question.\n"
   ]
  },
  {
   "cell_type": "code",
   "execution_count": 1,
   "metadata": {
    "collapsed": true
   },
   "outputs": [],
   "source": [
    "import nltk\n",
    "from nltk.corpus import gutenberg #To import the gutenberg library"
   ]
  },
  {
   "cell_type": "code",
   "execution_count": 79,
   "metadata": {
    "collapsed": false
   },
   "outputs": [],
   "source": [
    "wordsAusten = nltk.corpus.gutenberg.words('austen-persuasion.txt') ##Fetching the words from gutenberg words"
   ]
  },
  {
   "cell_type": "code",
   "execution_count": 94,
   "metadata": {
    "collapsed": false
   },
   "outputs": [],
   "source": [
    "wordsAusten_lower = [x.lower() for x in wordsAusten] ##We would convert all out text to lower text by using for comprehension"
   ]
  },
  {
   "cell_type": "code",
   "execution_count": 99,
   "metadata": {
    "collapsed": false
   },
   "outputs": [
    {
     "name": "stdout",
     "output_type": "stream",
     "text": [
      "The total count of non-unique words in Austen persuasion is: 98171\n"
     ]
    }
   ],
   "source": [
    "countWords = len(wordsAusten_lower)\n",
    "print(\"The total count of non-unique words in Austen persuasion is:\",countWords) #To find non-unique words that are present "
   ]
  },
  {
   "cell_type": "code",
   "execution_count": 104,
   "metadata": {
    "collapsed": false
   },
   "outputs": [
    {
     "name": "stdout",
     "output_type": "stream",
     "text": [
      "The total count of unique words in Austen persuasion is: 5835\n"
     ]
    }
   ],
   "source": [
    "countUniquewords = len(set(wordsAusten_lower)) #set returns all unique values\n",
    "print(\"The total count of unique words in Austen persuasion is:\",countUniquewords) #To find unique words that are present "
   ]
  },
  {
   "cell_type": "code",
   "execution_count": 124,
   "metadata": {
    "collapsed": false
   },
   "outputs": [],
   "source": [
    "ls = [] ## We make an empty list and then append to make a dictionary later\n",
    "for i in wordsAusten:\n",
    "    word_count = wordsAusten_lower.count(i) #Iterate over the lower word count and store in array\n",
    "    ls.append((i,word_count)) #To append in the list\n",
    "\n",
    "dict_ = dict(ls) #To make a dictionary for key-value pairs"
   ]
  },
  {
   "cell_type": "code",
   "execution_count": 122,
   "metadata": {
    "collapsed": false
   },
   "outputs": [],
   "source": [
    "dictionarySorted = sorted(dict_.items(),key = lambda kv:((-kv[1], kv[0])))[:10] \n",
    "## The dictionary Sorted would give you sorting of dictionaries"
   ]
  },
  {
   "cell_type": "code",
   "execution_count": 123,
   "metadata": {
    "collapsed": false
   },
   "outputs": [
    {
     "data": {
      "text/plain": [
       "[(',', 6750),\n",
       " ('the', 3329),\n",
       " ('to', 2808),\n",
       " ('and', 2801),\n",
       " ('.', 2741),\n",
       " ('of', 2570),\n",
       " ('a', 1595),\n",
       " ('in', 1389),\n",
       " ('was', 1337),\n",
       " (';', 1290)]"
      ]
     },
     "execution_count": 123,
     "metadata": {},
     "output_type": "execute_result"
    }
   ],
   "source": [
    "dictionarySorted #Output"
   ]
  }
 ],
 "metadata": {
  "anaconda-cloud": {},
  "kernelspec": {
   "display_name": "Python [conda root]",
   "language": "python",
   "name": "conda-root-py"
  },
  "language_info": {
   "codemirror_mode": {
    "name": "ipython",
    "version": 3
   },
   "file_extension": ".py",
   "mimetype": "text/x-python",
   "name": "python",
   "nbconvert_exporter": "python",
   "pygments_lexer": "ipython3",
   "version": "3.5.2"
  }
 },
 "nbformat": 4,
 "nbformat_minor": 1
}
