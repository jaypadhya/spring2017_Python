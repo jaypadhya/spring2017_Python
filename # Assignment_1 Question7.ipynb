{
 "cells": [
  {
   "cell_type": "markdown",
   "metadata": {},
   "source": [
    "# Assignment_1 Question7"
   ]
  },
  {
   "cell_type": "code",
   "execution_count": 44,
   "metadata": {
    "collapsed": false
   },
   "outputs": [],
   "source": [
    "import nltk\n",
    "from nltk.corpus import names\n",
    "names.fileids()\n",
    "from collections import Counter"
   ]
  },
  {
   "cell_type": "code",
   "execution_count": 12,
   "metadata": {
    "collapsed": true
   },
   "outputs": [],
   "source": [
    "male_list = nltk.corpus.names.words('male.txt') #To get the male list\n",
    "female_list = nltk.corpus.names.words('female.txt') #To get the female list"
   ]
  },
  {
   "cell_type": "code",
   "execution_count": 25,
   "metadata": {
    "collapsed": true
   },
   "outputs": [],
   "source": [
    "regex_alpha = re.compile(r'[a-z]')# REGEX does not work "
   ]
  },
  {
   "cell_type": "code",
   "execution_count": 19,
   "metadata": {
    "collapsed": false
   },
   "outputs": [],
   "source": [
    "string_alphachar = ['a','b','c','d','e','f','g','h','i','j','k','l','m','n','o','p','q','r','s','t','u','v','w','x','y','z'] #TO get a list on all chars"
   ]
  },
  {
   "cell_type": "code",
   "execution_count": 47,
   "metadata": {
    "collapsed": false
   },
   "outputs": [],
   "source": [
    "empty_malelist =[]  # To store all malelist in iteration\n",
    "empty_femalelist =[] # To store all femalelist in iteration\n",
    "\n",
    "for x in male_list:\n",
    "    #print(x) : To check each name is appearing on next line\n",
    "    for alpha in string_alphachar: # To check for alphabetics in the string values\n",
    "        if x.endswith(alpha): # To check the end value of character\n",
    "            empty_malelist.append(x) # To add to the list of x\n",
    "\n",
    "for y in female_list:\n",
    "    #print(y) : To check each name is appearing on next line\n",
    "    for alpha in string_alphachar: # Same process for female\n",
    "        if y.endswith(alpha):\n",
    "            empty_femalelist.append(y)"
   ]
  },
  {
   "cell_type": "code",
   "execution_count": 48,
   "metadata": {
    "collapsed": false
   },
   "outputs": [],
   "source": [
    "empty_malelist = []# we should make a reverse way to make this work\n",
    "empty_femalelist = [] # we should make a reverse way to make this work"
   ]
  },
  {
   "cell_type": "code",
   "execution_count": 49,
   "metadata": {
    "collapsed": false
   },
   "outputs": [],
   "source": [
    "for alpha in string_alphachar:\n",
    "    for x in male_list:\n",
    "        if x.endswith(alpha):\n",
    "            empty_malelist.append(alpha)\n",
    "    \n",
    "for alpha in string_alphachar:\n",
    "    for y in female_list:\n",
    "        if y.endswith(alpha):\n",
    "            empty_femalelist.append(alpha)\n"
   ]
  },
  {
   "cell_type": "code",
   "execution_count": 80,
   "metadata": {
    "collapsed": false
   },
   "outputs": [],
   "source": [
    "male = Counter(empty_malelist)"
   ]
  },
  {
   "cell_type": "code",
   "execution_count": 81,
   "metadata": {
    "collapsed": false
   },
   "outputs": [
    {
     "data": {
      "text/plain": [
       "Counter({'a': 29,\n",
       "         'b': 21,\n",
       "         'c': 25,\n",
       "         'd': 228,\n",
       "         'e': 468,\n",
       "         'f': 25,\n",
       "         'g': 32,\n",
       "         'h': 93,\n",
       "         'i': 50,\n",
       "         'j': 3,\n",
       "         'k': 69,\n",
       "         'l': 187,\n",
       "         'm': 70,\n",
       "         'n': 478,\n",
       "         'o': 165,\n",
       "         'p': 18,\n",
       "         'r': 190,\n",
       "         's': 230,\n",
       "         't': 164,\n",
       "         'u': 12,\n",
       "         'v': 16,\n",
       "         'w': 17,\n",
       "         'x': 10,\n",
       "         'y': 332,\n",
       "         'z': 11})"
      ]
     },
     "execution_count": 81,
     "metadata": {},
     "output_type": "execute_result"
    }
   ],
   "source": [
    "male"
   ]
  },
  {
   "cell_type": "code",
   "execution_count": 82,
   "metadata": {
    "collapsed": false
   },
   "outputs": [],
   "source": [
    "female = Counter(empty_femalelist)"
   ]
  },
  {
   "cell_type": "code",
   "execution_count": 83,
   "metadata": {
    "collapsed": false
   },
   "outputs": [
    {
     "data": {
      "text/plain": [
       "Counter({'a': 1773,\n",
       "         'b': 9,\n",
       "         'd': 39,\n",
       "         'e': 1432,\n",
       "         'f': 2,\n",
       "         'g': 10,\n",
       "         'h': 105,\n",
       "         'i': 317,\n",
       "         'j': 1,\n",
       "         'k': 3,\n",
       "         'l': 179,\n",
       "         'm': 13,\n",
       "         'n': 386,\n",
       "         'o': 33,\n",
       "         'p': 2,\n",
       "         'r': 47,\n",
       "         's': 93,\n",
       "         't': 68,\n",
       "         'u': 6,\n",
       "         'v': 2,\n",
       "         'w': 5,\n",
       "         'x': 10,\n",
       "         'y': 461,\n",
       "         'z': 4})"
      ]
     },
     "execution_count": 83,
     "metadata": {},
     "output_type": "execute_result"
    }
   ],
   "source": [
    "female"
   ]
  },
  {
   "cell_type": "code",
   "execution_count": 53,
   "metadata": {
    "collapsed": true
   },
   "outputs": [],
   "source": [
    "total_names = zip(male_list,female_list) # To make a additive list of male and female names"
   ]
  },
  {
   "cell_type": "code",
   "execution_count": 58,
   "metadata": {
    "collapsed": false
   },
   "outputs": [],
   "source": [
    "total_list = male_list+female_list\n",
    "total_list_emptylist = [] # To make a emptylist ofr storing elements"
   ]
  },
  {
   "cell_type": "code",
   "execution_count": 64,
   "metadata": {
    "collapsed": false
   },
   "outputs": [],
   "source": [
    "for alpha in string_alphachar: # To iterate over values in string character\n",
    "    for y in total_list: # To iterate over list\n",
    "        if y.endswith(alpha):\n",
    "            total_list_emptylist.append(alpha) # To add values in emptylist "
   ]
  },
  {
   "cell_type": "code",
   "execution_count": 65,
   "metadata": {
    "collapsed": true
   },
   "outputs": [],
   "source": [
    "total_name = Counter(total_list_emptylist)"
   ]
  },
  {
   "cell_type": "code",
   "execution_count": 66,
   "metadata": {
    "collapsed": false
   },
   "outputs": [
    {
     "data": {
      "text/plain": [
       "Counter({'a': 3575,\n",
       "         'b': 39,\n",
       "         'c': 25,\n",
       "         'd': 306,\n",
       "         'e': 3332,\n",
       "         'f': 29,\n",
       "         'g': 52,\n",
       "         'h': 303,\n",
       "         'i': 684,\n",
       "         'j': 5,\n",
       "         'k': 75,\n",
       "         'l': 545,\n",
       "         'm': 96,\n",
       "         'n': 1250,\n",
       "         'o': 231,\n",
       "         'p': 22,\n",
       "         'r': 284,\n",
       "         's': 416,\n",
       "         't': 300,\n",
       "         'u': 24,\n",
       "         'v': 20,\n",
       "         'w': 27,\n",
       "         'x': 30,\n",
       "         'y': 1254,\n",
       "         'z': 19})"
      ]
     },
     "execution_count": 66,
     "metadata": {},
     "output_type": "execute_result"
    }
   ],
   "source": [
    "total_name"
   ]
  },
  {
   "cell_type": "code",
   "execution_count": 98,
   "metadata": {
    "collapsed": false
   },
   "outputs": [],
   "source": [
    "male_length= len(male)\n",
    "total_length = len(male)+len(female)\n",
    "female_length = len(female)"
   ]
  },
  {
   "cell_type": "code",
   "execution_count": 99,
   "metadata": {
    "collapsed": false
   },
   "outputs": [
    {
     "data": {
      "text/plain": [
       "24"
      ]
     },
     "execution_count": 99,
     "metadata": {},
     "output_type": "execute_result"
    }
   ],
   "source": [
    "female_length"
   ]
  },
  {
   "cell_type": "code",
   "execution_count": 114,
   "metadata": {
    "collapsed": false
   },
   "outputs": [],
   "source": [
    "for alphabets in string_alphachar:  # To iterate over each brancg and find the string character over probability\n",
    "    for x in male_list:\n",
    "    #print(x) : To check each name is appearing on next line\n",
    "        for alpha in string_alphachar:\n",
    "            if x.endswith(alpha):\n",
    "                empty_malelist.append(x)\n",
    "\n",
    "    for y in female_list:\n",
    "    #print(y) : To check each name is appearing on next line\n",
    "        for alpha in string_alphachar:\n",
    "            if y.endswith(alpha):\n",
    "                empty_femalelist.append(y)\n",
    "    \n",
    "    total_names = len(empty_femalelist)+len(empty_malelist) # To add male and female length\n",
    "    try:\n",
    "        male_probability = round(len(empty_malelist)/(total_names)*100,0) # To calculate the probability for male\n",
    "        female_probaboility = round(len(empty_femalelist)/(total_names)*100,0) # To calculate the probability for female\n",
    "    except ZeroDivisionError: # For 'C' there is no female and hence there was error \n",
    "        male_probability = 0\n",
    "        female_probaboility = 0\n",
    "    ##print('[',alphabets,']male :',maleprob,'&',femaleprob,'%')    "
   ]
  },
  {
   "cell_type": "code",
   "execution_count": null,
   "metadata": {
    "collapsed": true
   },
   "outputs": [],
   "source": [
    "## We can try a simple and better way as follows using ZIP command"
   ]
  },
  {
   "cell_type": "code",
   "execution_count": 110,
   "metadata": {
    "collapsed": false
   },
   "outputs": [
    {
     "name": "stdout",
     "output_type": "stream",
     "text": [
      "[ a  ] male : 3.0 % & female : 97.0 %\n",
      "[ b  ] male : 78.0 % & female : 22.0 %\n",
      "[ c  ] male : 100.0 % & female : 0.0 %\n",
      "[ d  ] male : 92.0 % & female : 8.0 %\n",
      "[ e  ] male : 35.0 % & female : 65.0 %\n",
      "[ f  ] male : 100.0 % & female : 0.0 %\n",
      "[ g  ] male : 82.0 % & female : 18.0 %\n",
      "[ h  ] male : 62.0 % & female : 38.0 %\n",
      "[ i  ] male : 22.0 % & female : 78.0 %\n",
      "[ j  ] male : 100.0 % & female : 0.0 %\n",
      "[ k  ] male : 96.0 % & female : 4.0 %\n",
      "[ l  ] male : 63.0 % & female : 37.0 %\n",
      "[ m  ] male : 93.0 % & female : 7.0 %\n",
      "[ n  ] male : 65.0 % & female : 35.0 %\n",
      "[ o  ] male : 91.0 % & female : 9.0 %\n",
      "[ p  ] male : 90.0 % & female : 10.0 %\n",
      "[ q  ] male : 0 % & female : 0 %\n",
      "[ r  ] male : 83.0 % & female : 17.0 %\n",
      "[ s  ] male : 77.0 % & female : 23.0 %\n",
      "[ t  ] male : 83.0 % & female : 17.0 %\n",
      "[ u  ] male : 86.0 % & female : 14.0 %\n",
      "[ v  ] male : 94.0 % & female : 6.0 %\n",
      "[ w  ] male : 89.0 % & female : 11.0 %\n",
      "[ x  ] male : 67.0 % & female : 33.0 %\n",
      "[ y  ] male : 54.0 % & female : 46.0 %\n",
      "[ z  ] male : 85.0 % & female : 15.0 %\n"
     ]
    }
   ],
   "source": [
    "for alp in string_alphachar:\n",
    "    male_names  = []\n",
    "    female_names = []\n",
    "    for m,f in zip(male_list,female_list):\n",
    "        if m.endswith(alp):\n",
    "            male_names.append(m)\n",
    "        if f.endswith(alp):\n",
    "            female_names.append(f)\n",
    "    total_names = len(male_names)+len(female_names)\n",
    "    try:\n",
    "        maleprob = round(len(male_names)/total_names*100,0)\n",
    "        femaleprob = round(len(female_names)/total_names*100,0)\n",
    "    except ZeroDivisionError:\n",
    "        maleprob = 0\n",
    "        femaleprob = 0\n",
    "    print('[', alp,' ] male :', maleprob,'% & female :',femaleprob,'%')\n",
    "        "
   ]
  }
 ],
 "metadata": {
  "anaconda-cloud": {},
  "kernelspec": {
   "display_name": "Python [default]",
   "language": "python",
   "name": "python3"
  },
  "language_info": {
   "codemirror_mode": {
    "name": "ipython",
    "version": 3
   },
   "file_extension": ".py",
   "mimetype": "text/x-python",
   "name": "python",
   "nbconvert_exporter": "python",
   "pygments_lexer": "ipython3",
   "version": "3.5.2"
  }
 },
 "nbformat": 4,
 "nbformat_minor": 1
}
