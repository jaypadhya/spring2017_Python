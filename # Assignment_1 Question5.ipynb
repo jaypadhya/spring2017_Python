{
 "cells": [
  {
   "cell_type": "code",
   "execution_count": 1,
   "metadata": {
    "collapsed": true
   },
   "outputs": [],
   "source": [
    "# Assignment_1 Question5"
   ]
  },
  {
   "cell_type": "code",
   "execution_count": 6,
   "metadata": {
    "collapsed": false
   },
   "outputs": [
    {
     "data": {
      "text/plain": [
       "['austen-emma.txt',\n",
       " 'austen-persuasion.txt',\n",
       " 'austen-sense.txt',\n",
       " 'bible-kjv.txt',\n",
       " 'blake-poems.txt',\n",
       " 'bryant-stories.txt',\n",
       " 'burgess-busterbrown.txt',\n",
       " 'carroll-alice.txt',\n",
       " 'chesterton-ball.txt',\n",
       " 'chesterton-brown.txt',\n",
       " 'chesterton-thursday.txt',\n",
       " 'edgeworth-parents.txt',\n",
       " 'melville-moby_dick.txt',\n",
       " 'milton-paradise.txt',\n",
       " 'shakespeare-caesar.txt',\n",
       " 'shakespeare-hamlet.txt',\n",
       " 'shakespeare-macbeth.txt',\n",
       " 'whitman-leaves.txt']"
      ]
     },
     "execution_count": 6,
     "metadata": {},
     "output_type": "execute_result"
    }
   ],
   "source": [
    "import nltk\n",
    "import string\n",
    "from nltk.corpus import stopwords\n",
    "from collections import Counter\n",
    "nltk.corpus.gutenberg.fileids()"
   ]
  },
  {
   "cell_type": "code",
   "execution_count": 7,
   "metadata": {
    "collapsed": true
   },
   "outputs": [],
   "source": [
    "##We will store the words from Shakespeare first\n",
    "shakespeare_caesar = nltk.corpus.gutenberg.words('shakespeare-caesar.txt')\n",
    "shakespeare_hamlet = nltk.corpus.gutenberg.words('shakespeare-hamlet.txt')\n",
    "shakespeare_macbeth = nltk.corpus.gutenberg.words('shakespeare-macbeth.txt')"
   ]
  },
  {
   "cell_type": "code",
   "execution_count": 10,
   "metadata": {
    "collapsed": true
   },
   "outputs": [],
   "source": [
    "##Now we will store from Web_text\n",
    "web_words1 = nltk.corpus.webtext.words('firefox.txt')\n",
    "web_words2 = nltk.corpus.webtext.words('grail.txt')\n",
    "web_words3 = nltk.corpus.webtext.words('overheard.txt')\n",
    "web_words4 = nltk.corpus.webtext.words('pirates.txt')\n",
    "web_words5 = nltk.corpus.webtext.words('singles.txt')\n",
    "web_words6 = nltk.corpus.webtext.words('wine.txt')"
   ]
  },
  {
   "cell_type": "code",
   "execution_count": 11,
   "metadata": {
    "collapsed": true
   },
   "outputs": [],
   "source": [
    "#To find the top 50 words from Web and Shakespeare\n",
    "web_allwords = web_words1 + web_words2 + web_words3 + web_words4+ web_words5+ web_words6"
   ]
  },
  {
   "cell_type": "code",
   "execution_count": 13,
   "metadata": {
    "collapsed": true
   },
   "outputs": [],
   "source": [
    "shakespeare_allwords = shakespeare_caesar + shakespeare_hamlet + shakespeare_macbeth\n",
    "shakespeare_allwords_lower = [x.lower() for x in shakespeare_allwords]"
   ]
  },
  {
   "cell_type": "code",
   "execution_count": 20,
   "metadata": {
    "collapsed": false
   },
   "outputs": [],
   "source": [
    "ls = []\n",
    "for i in shakespeare_allwords:\n",
    "    word_count = shakespeare_allwords_lower.count(i)\n",
    "    ls.append((i,word_count))\n",
    "    # now to make it a dictionary\n",
    "dict_ = dict(ls)"
   ]
  },
  {
   "cell_type": "code",
   "execution_count": 22,
   "metadata": {
    "collapsed": true
   },
   "outputs": [],
   "source": [
    "top50Words_Shakespeare = sorted(dict_.items(),key = lambda kv:((-kv[1], kv[0])))[:50]"
   ]
  },
  {
   "cell_type": "code",
   "execution_count": 24,
   "metadata": {
    "collapsed": false
   },
   "outputs": [
    {
     "name": "stdout",
     "output_type": "stream",
     "text": [
      "[(',', 7058), ('.', 4417), ('the', 2222), ('and', 2036), (\"'\", 1750), (':', 1541), ('to', 1515), ('i', 1455), ('of', 1302), ('you', 1124), ('a', 1019), ('?', 996), ('my', 914), ('that', 904), ('in', 826), ('it', 778), ('is', 769), ('not', 722), ('d', 662), ('his', 588), ('with', 557), ('this', 546), ('for', 533), ('me', 529), ('your', 528), ('but', 510), ('he', 491), ('be', 476), ('what', 458), (';', 456), ('haue', 448), ('him', 434), ('as', 427), ('so', 424), ('will', 384), ('our', 346), ('all', 321), ('thou', 312), ('we', 306), ('are', 305), ('s', 303), ('shall', 300), ('no', 297), ('-', 293), ('do', 287), ('then', 278), ('on', 276), ('by', 256), ('if', 243), ('come', 232)]\n"
     ]
    }
   ],
   "source": [
    "print(\"The top 50 words with punctuation are :\",top50Words_Shakespeare)  # Top 50 words with punctuation "
   ]
  },
  {
   "cell_type": "code",
   "execution_count": null,
   "metadata": {
    "collapsed": false
   },
   "outputs": [],
   "source": [
    "shakespeare_allwords_loweralpha = [x.lower() for x in shakespeare_allwords if x.isalpha()]\n",
    "rs = []\n",
    "for i in shakespeare_allwords:\n",
    "    word_count_loweralpha = shakespeare_allwords_loweralpha.count(i)\n",
    "    rs.append((i,word_count_loweralpha))\n",
    "dict_1 = dict(rs)\n",
    "top50_shakespeare_words =sorted(dict_1.items(),key = lambda kv:((-kv[1], kv[0])))[:50]"
   ]
  },
  {
   "cell_type": "code",
   "execution_count": 37,
   "metadata": {
    "collapsed": false
   },
   "outputs": [
    {
     "name": "stdout",
     "output_type": "stream",
     "text": [
      "[('the', 2222), ('and', 2036), ('to', 1515), ('i', 1455), ('of', 1302), ('you', 1124), ('a', 1019), ('my', 914), ('that', 904), ('in', 826), ('it', 778), ('is', 769), ('not', 722), ('d', 662), ('his', 588), ('with', 557), ('this', 546), ('for', 533), ('me', 529), ('your', 528), ('but', 510), ('he', 491), ('be', 476), ('what', 458), ('haue', 448), ('him', 434), ('as', 427), ('so', 424), ('will', 384), ('our', 346), ('all', 321), ('thou', 312), ('we', 306), ('are', 305), ('s', 303), ('shall', 300), ('no', 297), ('do', 287), ('then', 278), ('on', 276), ('by', 256), ('if', 243), ('come', 232), ('enter', 230), ('they', 225), ('good', 218), ('let', 217), ('now', 208), ('thy', 202), ('was', 200)]\n"
     ]
    }
   ],
   "source": [
    "print(top50_shakespeare_words) # Top 50 words without punctuation "
   ]
  },
  {
   "cell_type": "code",
   "execution_count": 60,
   "metadata": {
    "collapsed": true
   },
   "outputs": [],
   "source": [
    "web_allwords_loweralpha =   [x.lower() for x in web_allwords if x.isalpha()]"
   ]
  },
  {
   "cell_type": "code",
   "execution_count": 64,
   "metadata": {
    "collapsed": false
   },
   "outputs": [],
   "source": [
    "# Removing stop words\n",
    "stop = stopwords.words('english')  # To find all words in stop words\n",
    "shake_combiner = [word for word in shakespeare_allwords_loweralpha if word not in stop] #To add words not in stop to shake_combiner\n",
    "web_combiner = [word for word in web_allwords_loweralpha if word not in stop]#To add words not in stop web_combiner\n",
    "\n",
    "shakespear_nostop = [x.lower() for x in shake_combiner] #The words that are finally without stopword in stop\n",
    "webcombiner_nonstop = [x.lower() for x in web_combiner]#The words that are finally without stopword in web"
   ]
  },
  {
   "cell_type": "code",
   "execution_count": 66,
   "metadata": {
    "collapsed": false
   },
   "outputs": [
    {
     "name": "stdout",
     "output_type": "stream",
     "text": [
      "Removing the words we still use today, and get top 5 elements:\n",
      "[('haue', 448), ('vpon', 162), ('brutus', 162), ('bru', 153), ('hath', 144)]\n"
     ]
    }
   ],
   "source": [
    "shake_word = []\n",
    "for x in shakespeare_allwords_loweralpha:\n",
    "    if x not in web_allwords_loweralpha:\n",
    "        shake_word.append(x)\n",
    "        \n",
    "        \n",
    "        \n",
    "TopWords = Counter(shake_word).most_common(5)\n",
    "print('Removing the words we still use today, and get top 5 elements:',TopWords,sep ='\\n')\n",
    "\n"
   ]
  }
 ],
 "metadata": {
  "anaconda-cloud": {},
  "kernelspec": {
   "display_name": "Python [conda root]",
   "language": "python",
   "name": "conda-root-py"
  },
  "language_info": {
   "codemirror_mode": {
    "name": "ipython",
    "version": 3
   },
   "file_extension": ".py",
   "mimetype": "text/x-python",
   "name": "python",
   "nbconvert_exporter": "python",
   "pygments_lexer": "ipython3",
   "version": "3.5.2"
  }
 },
 "nbformat": 4,
 "nbformat_minor": 1
}
