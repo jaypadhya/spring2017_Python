{
 "cells": [
  {
   "cell_type": "markdown",
   "metadata": {},
   "source": [
    "# Assignment_1 Question4"
   ]
  },
  {
   "cell_type": "code",
   "execution_count": 220,
   "metadata": {
    "collapsed": true
   },
   "outputs": [],
   "source": [
    "import nltk\n",
    "from nltk.corpus import nps_chat"
   ]
  },
  {
   "cell_type": "code",
   "execution_count": 243,
   "metadata": {
    "collapsed": true
   },
   "outputs": [],
   "source": [
    "all_files = nps_chat.fileids()   #To iterate over the files and get what are the fileids\n",
    "rawtext = nps_chat.raw()         #To add to the rawtext\n",
    "splittext = rawtext.split(\"\\n\") #Split by /n"
   ]
  },
  {
   "cell_type": "code",
   "execution_count": 228,
   "metadata": {
    "collapsed": false
   },
   "outputs": [],
   "source": [
    "countuser121 = 0 #We will use a counter for counting the number of times the user is present\n",
    "import re\n",
    "##regex = re.search(r'(user=\"[A-Z|a-z|0-9|-]*User121\")')\n",
    "for x in splittext:\n",
    "    if(re.search((r'user=\"[A-Z|a-z|0-9|-]*User121\"'),x)):\n",
    "        countuser121+=1"
   ]
  },
  {
   "cell_type": "code",
   "execution_count": 229,
   "metadata": {
    "collapsed": false
   },
   "outputs": [
    {
     "name": "stdout",
     "output_type": "stream",
     "text": [
      "The total number of post from  User121 are 132\n"
     ]
    }
   ],
   "source": [
    "print(\"The total number of post from  User121 are\",countuser121) #To find the total count of User121"
   ]
  },
  {
   "cell_type": "code",
   "execution_count": 253,
   "metadata": {
    "collapsed": false
   },
   "outputs": [],
   "source": [
    "for file in all_files: #Iterating over the content\n",
    "    if '-20s' in file: #This will iterate all values for finding 20s users\n",
    "        users20 = []#Blank list for storing elements\n",
    "        post20=nps_chat.xml_posts(file) #reading though each post\n",
    "        for post in post20: # Finding the posts in the XML posts for each file\n",
    "            users20.append((post.get('user')[9:]))\n",
    "    elif'-30s' in file:# To find all 30s users\n",
    "        user30=[] #Blank list for storing elements\n",
    "        post30 = nps_chat.xml_posts(file)\n",
    "        for post in post30:# Finding the posts in the XML posts for each file\n",
    "            user30.append((post.get('user')[9:]))\n",
    "    elif '-40s' in file: # To find all 40s users\n",
    "        user40=[]#Blank list for storing elements\n",
    "        post40 = nps_chat.xml_posts(file) \n",
    "        for post in post40: # Finding the posts in the XML posts for each file\n",
    "            user40.append((post.get('user')[9:]))           "
   ]
  },
  {
   "cell_type": "code",
   "execution_count": 255,
   "metadata": {
    "collapsed": false
   },
   "outputs": [
    {
     "name": "stdout",
     "output_type": "stream",
     "text": [
      "126 users are in 20s:\n",
      "44 users are in 30s:\n",
      "50 users are in 40s:\n"
     ]
    }
   ],
   "source": [
    "print(len(set(users20)),'users are in 20s:')\n",
    "print(len(set(user30)),'users are in 30s:')\n",
    "print(len(set(user40)),'users are in 40s:')"
   ]
  }
 ],
 "metadata": {
  "anaconda-cloud": {},
  "kernelspec": {
   "display_name": "Python [default]",
   "language": "python",
   "name": "python3"
  },
  "language_info": {
   "codemirror_mode": {
    "name": "ipython",
    "version": 3
   },
   "file_extension": ".py",
   "mimetype": "text/x-python",
   "name": "python",
   "nbconvert_exporter": "python",
   "pygments_lexer": "ipython3",
   "version": "3.5.2"
  }
 },
 "nbformat": 4,
 "nbformat_minor": 1
}
