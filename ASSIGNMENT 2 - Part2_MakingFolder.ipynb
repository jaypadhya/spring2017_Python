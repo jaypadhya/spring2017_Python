{
 "cells": [
  {
   "cell_type": "markdown",
   "metadata": {},
   "source": [
    "#ASSIGNMENT 2 : PART 1 - To make folders containing country city and terms"
   ]
  },
  {
   "cell_type": "code",
   "execution_count": 14,
   "metadata": {
    "collapsed": true
   },
   "outputs": [],
   "source": [
    "\n",
    "import os \n",
    "import glob\n",
    "import json\n",
    "from shutil import copyfile\n",
    "files = glob.glob('Data/*',recursive=True) #To ietrate and collect all data\n"
   ]
  },
  {
   "cell_type": "code",
   "execution_count": 10,
   "metadata": {
    "collapsed": true
   },
   "outputs": [],
   "source": [
    "newpath = 'DataProcessed/' # Creating a relative path here"
   ]
  },
  {
   "cell_type": "code",
   "execution_count": 2,
   "metadata": {
    "collapsed": false
   },
   "outputs": [],
   "source": [
    "def checkpath(path): # This is defining the check path for ensuring tat path is not previously created\n",
    "    if not os.path.exists(path): # Check for path\n",
    "        os.makedirs(path) # Make one if not \n",
    "    return True # Return if not tru"
   ]
  },
  {
   "cell_type": "code",
   "execution_count": 12,
   "metadata": {
    "collapsed": false
   },
   "outputs": [],
   "source": [
    "for number in range(len(files)): # Itearte over the length\n",
    "        with open(files[number]) as json_data: # indexing over the number\n",
    "            data = json.load(json_data) #Loading JSON data\n",
    "            x=data[\"location\"][\"country\"] #Location and country\n",
    "            y=data[\"location\"][\"city\"] # City\n",
    "            z=data[\"term\"] #Terms for restaurants\n",
    "            id_1 = data[\"id\"] #For locating ID\n",
    "            actual_path= newpath+'\\\\'+x+'\\\\'+y+'\\\\'+z +'\\\\' #Making path\n",
    "            if checkpath(actual_path): #CHecking for actual path\n",
    "                copyfile(files[number],actual_path+id_1+\".json\") # adding json to folders"
   ]
  },
  {
   "cell_type": "code",
   "execution_count": null,
   "metadata": {
    "collapsed": true
   },
   "outputs": [],
   "source": []
  }
 ],
 "metadata": {
  "anaconda-cloud": {},
  "kernelspec": {
   "display_name": "Python [conda root]",
   "language": "python",
   "name": "conda-root-py"
  },
  "language_info": {
   "codemirror_mode": {
    "name": "ipython",
    "version": 3
   },
   "file_extension": ".py",
   "mimetype": "text/x-python",
   "name": "python",
   "nbconvert_exporter": "python",
   "pygments_lexer": "ipython3",
   "version": "3.5.2"
  }
 },
 "nbformat": 4,
 "nbformat_minor": 1
}
